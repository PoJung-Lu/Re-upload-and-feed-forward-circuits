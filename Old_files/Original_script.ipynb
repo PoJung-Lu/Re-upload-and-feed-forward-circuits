{
 "cells": [
  {
   "cell_type": "code",
   "execution_count": 1,
   "id": "73de2baa",
   "metadata": {
    "tags": []
   },
   "outputs": [],
   "source": [
    "import pennylane as qml\n",
    "import numpy as np\n",
    "import matplotlib.pyplot as plt\n",
    "import time\n",
    "import datetime\n",
    "import optax\n",
    "from parent_dir import *\n",
    "from data_gen import data_generator\n",
    "import qutip\n",
    "import gc\n",
    "import os\n",
    "import ipynbname  #! pip install ipynbname\n",
    "from qiskit import QuantumCircuit, transpile\n",
    "from qiskit_ibm_provider import IBMProvider\n",
    "from qiskit_aer.noise import NoiseModel\n",
    "from sklearn.model_selection import train_test_split"
   ]
  },
  {
   "cell_type": "code",
   "execution_count": 2,
   "id": "77b16962-d4c7-4238-9b09-bd1d7aee326f",
   "metadata": {
    "tags": []
   },
   "outputs": [],
   "source": [
    "#nb_fname = ipynbname.name()\n",
    "#ver = nb_fname[nb_fname.index('v'):nb_fname.index('_')]"
   ]
  },
  {
   "cell_type": "code",
   "execution_count": 3,
   "id": "4ea4bdab",
   "metadata": {
    "tags": []
   },
   "outputs": [],
   "source": [
    "# Added to silence some warnings.\n",
    "from jax.config import config\n",
    "config.update(\"jax_enable_x64\", True)\n",
    "import jax\n",
    "import jax.numpy as jnp\n",
    "jax.config.update('jax_platform_name', 'cpu')"
   ]
  },
  {
   "cell_type": "code",
   "execution_count": 4,
   "id": "ca39b83e-bcf1-417e-95d4-91e37b55ed01",
   "metadata": {},
   "outputs": [],
   "source": [
    "ver = 'v9.9t'\n",
    "problem = 'breast_cancer' #'3 circles'#'moon'#\n",
    "shape =  \"binary\" #\"bitwise\" #\"square plane\"#\"tetrahedron\"#\n",
    "rot = 'zyz' #'yzy' #'xzx' #\n",
    "num_training = 400\n",
    "num_test = 100\n",
    "\n",
    "enc_dim = 3\n",
    "num_qubits = 5\n",
    "num_layers = 1\n",
    "num_reupload = 1\n",
    "num_rot = 1\n",
    "\n",
    "max_n_converge = 10\n",
    "thres_converge = 0.0001\n",
    "preprocess = \"scaling\"#None #  \"normalization\"# \"standardization\" #\n",
    "seed_num = data_seed_num= 40#"
   ]
  },
  {
   "cell_type": "code",
   "execution_count": null,
   "id": "d03db644-85ff-4988-980d-084ae512fc5d",
   "metadata": {
    "tags": []
   },
   "outputs": [],
   "source": [
    "noise = training_noise = False#True#\n",
    "fake_backend = False#True#\n",
    "real_device =  False#True#\n",
    "provider = IBMProvider(instance='ibm-q-hub-ntu/ntu-internal/default')\n",
    "#provider = IBMProvider(instance='ibm-q/open/main')\n",
    "backend = 'ibm_cusco'#'ibmq_jakarta'#'ibm_brisbane'#'ibmq_lima'#'ibmq_belem'#'ibmq_manila'#'ibmq_quito'#'ibm_lagos'#'ibm_nairobi'#''ibm_perth',#'ibm_oslo'#'ibmq_belem'#'ibmq_qasm_simulator'\n",
    "#backend = provider.get_backend(backend)\n",
    "#IBMProvider.save_account('')\n",
    "\n",
    "date, day = time.strftime(\"%Y%m%d-%H%M\"), time.strftime(\"%Y%m%d-%H\")\n",
    "cwd = os.getcwd()"
   ]
  },
  {
   "cell_type": "code",
   "execution_count": 6,
   "id": "84056810-6469-4dc7-96f8-ec17860df6d6",
   "metadata": {
    "tags": []
   },
   "outputs": [
    {
     "data": {
      "text/plain": [
       "[469, 593, 898, 536, 32, 251, 289, 680, 984, 652]"
      ]
     },
     "execution_count": 6,
     "metadata": {},
     "output_type": "execute_result"
    }
   ],
   "source": [
    "import random\n",
    "num_cvs = 5\n",
    "num_seeds = 10\n",
    "random.seed(seed_num)\n",
    "seeds = [random.randint(0, 1E3) for _ in range(num_seeds)]\n",
    "seeds"
   ]
  },
  {
   "cell_type": "code",
   "execution_count": 7,
   "id": "a934e423-1639-4373-8fcf-c17015aef861",
   "metadata": {
    "tags": []
   },
   "outputs": [
    {
     "data": {
      "text/plain": [
       "[[5, 1, 1, 3, 3],\n",
       " [5, 2, 1, 3, 3],\n",
       " [5, 3, 1, 3, 3],\n",
       " [5, 4, 1, 3, 3],\n",
       " [5, 5, 1, 3, 3],\n",
       " [5, 6, 1, 3, 3],\n",
       " [5, 7, 1, 3, 3]]"
      ]
     },
     "execution_count": 7,
     "metadata": {},
     "output_type": "execute_result"
    }
   ],
   "source": [
    "# set range of aubits and rotations\n",
    "settings, results= [], []\n",
    "num_settings = r_enc, r_q ,r_f, r_r, r_rot = 1, 7, 1, 1, 1 #run the setting with n values\n",
    "start_value = e0, q0, f0, r0, rot0 = 5, 1, 1, 3, 3\n",
    "\n",
    "for e in range(r_enc):\n",
    "    e = e+1 if r_enc!=1 else e0\n",
    "    for q in range(r_q):\n",
    "        q = q+1 if r_q!=1 else q0\n",
    "        for f in range(r_f):\n",
    "            f = f+1 if r_f!=1 else f0\n",
    "            for r in range(r_r):\n",
    "                r = r+1 if r_r!=1 else r0\n",
    "                for n_rot in range(r_rot):\n",
    "                    n_rot = n_rot+1 if r_rot!=1 else rot0\n",
    "                    settings.append([e,q,f,r,n_rot] )\n",
    "\n",
    "settings#=settings[:3]"
   ]
  },
  {
   "cell_type": "code",
   "execution_count": 8,
   "id": "7437e830-9c87-49bb-b69c-36440527481b",
   "metadata": {},
   "outputs": [
    {
     "data": {
      "text/plain": [
       "[[[0.15, 0.05, 0.01], 3200, 50, 50, [0.05, 0.03, 0.01]],\n",
       " [[0.15, 0.05, 0.01], 3200, 100, 50, [0.05, 0.03, 0.01]],\n",
       " [[0.15, 0.05, 0.01], 3200, 300, 50, [0.05, 0.03, 0.01]],\n",
       " [[0.15, 0.05, 0.01, 0.001, 0.0001], 3200, 50, 50, [0.05, 0.03, 0.01]],\n",
       " [[0.15, 0.05, 0.01, 0.001, 0.0001], 3200, 100, 50, [0.05, 0.03, 0.01]],\n",
       " [[0.15, 0.05, 0.01, 0.001, 0.0001], 3200, 300, 50, [0.05, 0.03, 0.01]]]"
      ]
     },
     "execution_count": 8,
     "metadata": {},
     "output_type": "execute_result"
    }
   ],
   "source": [
    "h_params= {'lr':[[0.15,0.05,0.01],[0.15,0.05,0.01,0.001,0.0001]],  #\n",
    "           'max_epoch':[3200],\n",
    "           'batch_size':[50,100,300],\n",
    "           'dynamic_size':[50],\n",
    "           'thres':[[0.05,0.03,0.01]]}#]}#[0.05],\n",
    "h_pms = [[i,j,k,l,m] for i in h_params['lr'] for j in h_params['max_epoch'] for k in h_params['batch_size'] for l in h_params['dynamic_size'] for m in h_params['thres']]\n",
    "h_pms#=h_pms[:3]\n",
    "h_pms"
   ]
  },
  {
   "cell_type": "code",
   "execution_count": 9,
   "id": "947fdd08-0ac7-47ea-97d7-b8e3b9c9029c",
   "metadata": {
    "tags": []
   },
   "outputs": [],
   "source": [
    "def model_noise(backend,fake_backend):\n",
    "    #noise_model = None\n",
    "    if fake_backend:   \n",
    "        model_dict = {}\n",
    "        i_bknd = backend.index('_')+1\n",
    "        f_bknd = 'Fake'+backend[i_bknd].upper()+backend[i_bknd+1:]+'V2'\n",
    "        import_str = \"from {0} import {1}\".format('qiskit.providers.fake_provider',f_bknd)\n",
    "        exec(import_str,globals(),model_dict)\n",
    "        exec('noise_model = NoiseModel.from_backend({})'.format(f_bknd+'()'),globals(),model_dict)\n",
    "        noise_model = model_dict['noise_model']\n",
    "    else:\n",
    "        noise_model = NoiseModel.from_backend(provider.get_backend(backend)) #backend = provider.get_backend(backend)\n",
    "    return noise_model\n",
    "noise_model = model_noise(backend,fake_backend)"
   ]
  },
  {
   "cell_type": "code",
   "execution_count": 10,
   "id": "40a0417d",
   "metadata": {
    "scrolled": true,
    "tags": []
   },
   "outputs": [
    {
     "data": {
      "image/png": "[encoded data removed]",
      "text/plain": [
       "<Figure size 400x400 with 1 Axes>"
      ]
     },
     "metadata": {},
     "output_type": "display_data"
    }
   ],
   "source": [
    "#key = jax.random.PRNGKey(seed_num)\n",
    "def data_gen(problem,num_training=num_training, seed_num = 42):\n",
    "    np.random.seed(seed_num)\n",
    "    data=data_generator(problem,num_training)[0]\n",
    "    x=np.array([i[0] for i in data])#.astype(float)\n",
    "    y=np.array([i[1] for i in data])#.astype(float)\n",
    "    return x,y #torch.tensor(x),torch.tensor(y)\n",
    "    \n",
    "def plot_data(x, y, fig=None, ax=None):\n",
    "    if fig == None:\n",
    "        fig, ax = plt.subplots(1, 1, figsize=(5, 5))\n",
    "    brown = y == 0\n",
    "    reds = y == 1\n",
    "    green = y == 2\n",
    "    blues = y == 3\n",
    "    ax.scatter(x[reds, 0], x[reds, 1], c=\"red\", s=20, edgecolor=\"k\")\n",
    "    ax.scatter(x[blues, 0], x[blues, 1], c=\"blue\", s=20, edgecolor=\"k\")\n",
    "    ax.scatter(x[green, 0], x[green, 1], c=\"green\", s=20, edgecolor=\"k\")\n",
    "    ax.scatter(x[brown, 0], x[brown, 1], c=\"brown\", s=20, edgecolor=\"k\")\n",
    "    ax.set_xlabel(\"$x_1$\")\n",
    "    ax.set_ylabel(\"$x_2$\")\n",
    "    \n",
    "Xdata, ydata = data_gen(problem,num_training)\n",
    "\n",
    "fig, ax = plt.subplots(1, 1, figsize=(4, 4))\n",
    "plot_data(Xdata, ydata, fig=fig, ax=ax)\n",
    "plt.show()"
   ]
  },
  {
   "cell_type": "code",
   "execution_count": 11,
   "id": "e4d27ddf",
   "metadata": {
    "tags": []
   },
   "outputs": [
    {
     "name": "stdout",
     "output_type": "stream",
     "text": [
      "theta= [0, 3.141592653589793] \n",
      "phi= [0, 0]\n",
      "c_states= [[[1.000000e+00+0.j]\n",
      "  [0.000000e+00+0.j]]\n",
      "\n",
      " [[6.123234e-17+0.j]\n",
      "  [1.000000e+00+0.j]]] \n",
      "shape: (2, 2, 1)\n"
     ]
    },
    {
     "data": {
      "image/png": "[encoded data removed]",
      "text/plain": [
       "<Figure size 500x500 with 1 Axes>"
      ]
     },
     "metadata": {},
     "output_type": "display_data"
    },
    {
     "data": {
      "text/plain": [
       "Array([[1.00000000e+00, 3.74939946e-33],\n",
       "       [3.74939946e-33, 1.00000000e+00]], dtype=float64)"
      ]
     },
     "execution_count": 11,
     "metadata": {},
     "output_type": "execute_result"
    }
   ],
   "source": [
    "# Define output labels as quantum state vectors\n",
    "def density_matrix(state):\n",
    "    return state * np.conj(state).T\n",
    "\n",
    "def state_labels(theta, phi):\n",
    "    return [np.cos(np.array(a)/2)*label_0+np.exp(np.array(b)*1j)*np.sin(np.array(a)/2)*label_1 for a,b in zip(theta, phi)]\n",
    "\n",
    "def plot_class_states(dm_labels, bloch3d=False):\n",
    "    if bloch3d:\n",
    "        b = qutip.Bloch() \n",
    "        b3d = qutip.Bloch3d()  #need Mayavi,PyQt\n",
    "        for i in state_labels(theta, phi):\n",
    "            s=(i[0,0]*qutip.basis(2, 0) + i[1,0]*qutip.basis(2, 1)).unit()\n",
    "            b.add_states(s)\n",
    "            b3d.add_states(s)\n",
    "        b.show()\n",
    "        b3d.show()\n",
    "    else:\n",
    "        b = qutip.Bloch() \n",
    "        for i in state_labels(theta, phi):\n",
    "            s=(i[0,0]*qutip.basis(2, 0) + i[1,0]*qutip.basis(2, 1)).unit()\n",
    "            b.add_states(s)\n",
    "        b.show()\n",
    "        \n",
    "#Bloch sphere representation: \n",
    "#psi = alpha|0> + beta|1> = cos(theta/2)+e^(i*phi)sin(theta/2)\n",
    "\n",
    "\n",
    "def angles(shape):\n",
    "    shapes = [\"square plane\", \"tetrahedron\", \"bitwise\",\"binary\"]\n",
    "    shape = shape.lower()\n",
    "    if shape not in shapes:\n",
    "        raise ValueError('problem must be one of {}'.format(shapes))\n",
    "    if shape == \"square plane\":\n",
    "        theta = [np.pi/2]*4\n",
    "        phi = [np.pi/4, -np.pi/4, 3*np.pi/4, -3*np.pi/4]\n",
    "    if shape == \"tetrahedron\":\n",
    "        X = [[0, 0], [0,1], [1,0],[1,1]]\n",
    "        enc = []\n",
    "        for x in X:\n",
    "            MyEnc = [None, None]\n",
    "            if x[0] or x[1]:\n",
    "                #MyEnc[0] = 2*np.arccos(1/np.sqrt(3))\n",
    "                MyEnc[0] = np.arccos(-1/3)\n",
    "            else:\n",
    "                MyEnc[0] = 0\n",
    "            MyEnc[1] = (x[0]*2 + x[1])*2*np.pi/3\n",
    "            enc.append(MyEnc)\n",
    "            Enc = np.array(enc).T\n",
    "        theta, phi = Enc[0], Enc[1]\n",
    "    if shape in [\"bitwise\",\"binary\"]:\n",
    "        theta = [0,np.pi]\n",
    "        phi = [0,0]\n",
    "    return theta, phi\n",
    "\n",
    "def yc(c_states,num_qubits=2): #mutual fidelities of c_states\n",
    "    Yc = jnp.array([(np.abs(i.T.conj().dot(j)))**2 for i in c_states for j in c_states])\n",
    "    Yc = Yc.reshape([num_class,num_class])\n",
    "    if shape == \"bitwise\":\n",
    "        for i in range(num_qubits-1):\n",
    "            Yc = jnp.kron(Yc, Yc)\n",
    "    return Yc\n",
    "label_0 = np.array([[1.], [0.]])\n",
    "label_1 = np.array([[0.], [1.]])\n",
    "\n",
    "theta, phi = angles(shape)\n",
    "num_class = len(theta)     # of class for one qubit\n",
    "print('theta=',theta,'\\nphi=',phi)\n",
    "c_states = jnp.array(state_labels(theta, phi))\n",
    "print('c_states=',c_states,'\\nshape:',c_states.shape)\n",
    "dm_labels = jnp.array([density_matrix(s) for s in c_states])\n",
    "plot_class_states(dm_labels, bloch3d=False)  \n",
    "# if 3d has err: pip install mayavi PyQt5 \n",
    "# and see https://stackoverflow.com/questions/72110384/libgl-error-mesa-loader-failed-to-open-iris\n",
    "# or https://askubuntu.com/questions/1418016/glibcxx-3-4-30-not-found-in-conda-environment\n",
    "Yc = yc(c_states)\n",
    "\n",
    "def totuple(a):\n",
    "    try:\n",
    "        return tuple(totuple(i) for i in a)\n",
    "    except TypeError:\n",
    "        return a.tolist()\n",
    "dm_labels = totuple(dm_labels)\n",
    "Yc"
   ]
  },
  {
   "cell_type": "code",
   "execution_count": 12,
   "id": "695e5cf9-3be3-4272-b830-9017ef24b008",
   "metadata": {
    "tags": []
   },
   "outputs": [],
   "source": [
    "noise = training_noise\n",
    "def device(num_qubits,noise=False,real_device=False,backend=backend,noise_model=None):\n",
    "    if noise:\n",
    "        if real_device:\n",
    "            dev = qml.device('qiskit.ibmq.circuit_runner', wires=num_qubits, backend=backend, \n",
    "                             provider=provider,initial_layout= [1,2],start_session=True)#)#\n",
    "        else:\n",
    "            if not noise_model:\n",
    "                noise_model = model_noise(backend,fake_backend)\n",
    "            dev = qml.device('qiskit.aer', wires=num_qubits, diff_method=\"adjoint\", noise_model=noise_model)#\n",
    "    else: \n",
    "        dev = qml.device(\"default.qubit\", wires=num_qubits)\n",
    "    return dev\n",
    "def conditional_qnode(f):\n",
    "    def wrapper(*args):\n",
    "        self = args[0]\n",
    "        if self.noise:\n",
    "            return qml.QNode(f,self.dev)(*args)\n",
    "        else: \n",
    "            return qml.QNode(f,self.dev,interface='jax')(*args)\n",
    "    return wrapper"
   ]
  },
  {
   "cell_type": "code",
   "execution_count": 13,
   "id": "137ebfb0-f5c7-47cf-b6da-98d9b41067e9",
   "metadata": {
    "tags": []
   },
   "outputs": [],
   "source": [
    "class qcircuit:\n",
    "    dev = device(num_qubits,noise,real_device,backend,noise_model)\n",
    "    def __init__(self,params, x, y, n_qubits, n_layers, n_reupload, n_rot, enc_dim=2): \n",
    "        import math\n",
    "        self.dev = device(num_qubits,noise,real_device,backend,noise_model)\n",
    "        self.x = x\n",
    "        self.y = y\n",
    "        self.n_rot = n_rot\n",
    "        self.n_qubits = n_qubits\n",
    "        self.n_layers = n_layers\n",
    "        self.n_reupload = n_reupload\n",
    "        \n",
    "        self.N = len(x[0])                                 # # of examples, and x = X_train.T\n",
    "        self.noise = noise\n",
    "        self.params = params   \n",
    "        self.dim_x = (len(x))                              # dimension of x\n",
    "        self.enc_dim = enc_dim\n",
    "        self.least_q = math.ceil(self.dim_x/enc_dim)       # least qubit # for encoding\n",
    "        if self.least_q>n_qubits: raise ValueError(\"Number of qubits not enough for encoding features.\")\n",
    "        \n",
    "    def reshape_input(self,x_in): #'''May cause some prob ex. dim_in=4, enc_dim=3, q=5 e.g. not all enc_dim is filled'''\n",
    "        enc_dim , n_qubits = self.enc_dim, self.n_qubits\n",
    "        self.dim_in = len(x_in)\n",
    "        if n_qubits*enc_dim >= self.dim_in*2:       # repeat to fill all qubits\n",
    "            self.rep = n_qubits*enc_dim//self.dim_in\n",
    "            x_in = jnp.tile(x_in,(self.rep,1))\n",
    "        if remain_dim:=enc_dim*n_qubits-len(x_in):           # make x_in be integer multiple of enc_dim\n",
    "            x_in = jnp.vstack((np.zeros((remain_dim,self.N)), x_in)) \n",
    "        x_in = x_in.reshape(len(x_in)//enc_dim,enc_dim,self.N) # (least_q_#,enc_dim,N) ## each qubit have enc_dim input dims\n",
    "        return x_in\n",
    "    def encode_op(self,x):\n",
    "        op = ()\n",
    "        #print(x[0][0].shape)\n",
    "        for q in range(self.n_qubits):\n",
    "            for e_i in range(self.enc_dim):\n",
    "                if even := (e_i+1)%2:   #Rx(0)Rx(2)...\n",
    "                    op = op+(qml.RX(x[q][e_i], wires=q),)\n",
    "                    if e_i>=len(x[0]): op = op+(qml.RX(0, wires=q),)  ;print('Warning: # of encoding features is more than enc_dim.')                   \n",
    "                else:                   #Ry(1)Ry(3)...\n",
    "                    op = op+(qml.RY(x[q][e_i], wires=q),)\n",
    "                    if e_i>=len(x[0]): op = op+(qml.RY(0, wires=q),)  ;print('Warning: # of encoding features is more than enc_dim.') \n",
    "                    # Notice that JAX don't have IndexError: out of bound error.\n",
    "                    # It simply returns the last results.\n",
    "        return op\n",
    "\n",
    "    def reupload_op(self,x):\n",
    "        op=()\n",
    "        for q in range(self.n_qubits):\n",
    "            for e_i in range(self.enc_dim):\n",
    "                if even := (e_i+1)%2:   #RxRyRxRy...(0,1,2,...)\n",
    "                    op = op+(qml.RX(x[q][e_i], wires=q),)\n",
    "                    if e_i>=len(x[0]): op = op+(qml.RX(0, wires=q),)  ;print('Warning: # of encoding features is more than enc_dim.')                   \n",
    "                else:\n",
    "                    op = op+(qml.RY(x[q][e_i], wires=q),)\n",
    "                    if e_i>=len(x[0]): op = op+(qml.RY(0, wires=q),)  ;print('Warning: # of encoding features is more than enc_dim.') \n",
    "        return op\n",
    "\n",
    "    def rot_op(self,p):\n",
    "        op = ()\n",
    "        #p = self.params['params'][0]\n",
    "        rots = [\"zyz\", \"xzx\", \"yzy\"]\n",
    "        if rot not in rots:\n",
    "            raise ValueError('rotation must be one of {}'.format(rots))\n",
    "        if rot=='zyz':\n",
    "            for n_rot in range(self.n_rot):\n",
    "                for q in range(self.n_qubits):\n",
    "                    op = op+(qml.Rot(*p[q,n_rot], wires=q),)\n",
    "                    op = op+(qml.CNOT(wires=[q-1,q]),) if q != 0 else op\n",
    "        if rot=='xzx':\n",
    "            for n_rot in range(self.n_rot):\n",
    "                for q in range(self.n_qubits):\n",
    "                    op = op+(qml.Rot(*p[q,n_rot], wires=q),)\n",
    "                    op = op+(qml.CNOT(wires=[q-1,q]),) if q != 0 else op\n",
    "        if rot=='yzy':\n",
    "            for n_rot in range(self.n_rot):\n",
    "                for q in range(self.n_qubits):\n",
    "                    op = op+(qml.Rot(*p[q,n_rot], wires=q),)\n",
    "                    op = op+(qml.CNOT(wires=[q-1,q]),) if q != 0 else op\n",
    "        return op\n",
    "\n",
    "    # @qml.qnode(dev,interface='jax')   ## To print circuit, use @qml.qnode instead of @conditional_qnode\n",
    "    @conditional_qnode\n",
    "    def enc_circuit(self,p, x):\n",
    "        # p0=p['scaling']\n",
    "        # p0=jnp.tile(p0,(self.n_qubits,1))\n",
    "        for r_j in range(self.n_reupload):\n",
    "            p1 = p['scaling'][r_j][:len(x)]#\n",
    "            p2 = p['circ'][r_j]\n",
    "            p1=jnp.tile(p1.reshape(len(x),self.enc_dim,1),(1,1,self.N))\n",
    "\n",
    "            x2 = x*p1\n",
    "            #x2=[x[0],x[1]*p[12],x[2]*p[13],x[3]*p[14],x[4]*p[15],x[5]*p[16]] if problem=='breast_cancer' else [x[:,0],x[:,1]*p[12],x[:,2]*p[13]]\n",
    "            qml.apply(self.encode_op(x2))\n",
    "            qml.apply(self.rot_op(p2))\n",
    "            \n",
    "        return [qml.expval(qml.PauliZ(q)) for q in range(self.n_qubits)]\n",
    "\n",
    "    @conditional_qnode\n",
    "    def circuit(self,p, x):\n",
    "        #p0 = p['params']\n",
    "        #x2=[x[0],x[1]*p0[12],x[2]*p0[13]]\n",
    "        x1 = jnp.tile(x,(self.enc_dim,1,1)).reshape(self.n_qubits,self.enc_dim,self.N) # (q,N)->(enc,q,N)->(q,enc,N)\n",
    "        for r_j in range(self.n_reupload):\n",
    "            p1 = p['scaling'][r_j]\n",
    "            p2 = p['circ'][r_j]\n",
    "            p1=jnp.tile(p1.reshape(self.n_qubits,self.enc_dim,1),(1,1,self.N))\n",
    "            x2 = p1*x1\n",
    "            qml.apply(self.reupload_op(x2))\n",
    "            qml.apply(self.rot_op(p2))\n",
    "        \n",
    "        return [qml.expval(qml.PauliZ(q)) for q in range(self.n_qubits)]\n",
    "    \n",
    "    # @qml.qnode(dev,interface='jax')\n",
    "    @conditional_qnode\n",
    "    def circuit_end(self,p, x, y):\n",
    "        y=np.array(y)\n",
    "        for r_j in range(self.n_reupload):\n",
    "            p1 = p['scaling'][r_j]\n",
    "            p2 = p['circ'][r_j]\n",
    "            p1=jnp.tile(p1.reshape(self.n_qubits,self.enc_dim,1),(1,1,self.N))\n",
    "            # p = p['params']\n",
    "            # x2=[x[0],x[1]*p[12],x[2]*p[13]]\n",
    "            if self.n_layers==1:\n",
    "                # x2=[x[0],x[1]*p[12],x[2]*p[13],x[3]*p[14],x[4]*p[15],x[5]*p[16]] if problem=='breast_cancer' else [x[0],x[1]*p[12],x[2]*p[13]]\n",
    "                x2 = x*p1\n",
    "                qml.apply(self.encode_op(x2))\n",
    "            else:\n",
    "                x1 = jnp.tile(x,(self.enc_dim,1,1)).reshape(self.n_qubits,self.enc_dim,self.N) # (q,N)->(enc,q,N)->(q,enc,N)\n",
    "                x2 = x1*p1\n",
    "                qml.apply(self.reupload_op(x2))        \n",
    "            qml.apply(self.rot_op(p2))\n",
    "        return [qml.expval(qml.Hermitian(y, wires=[q])) for q in range(self.n_qubits)] \n",
    "        #return qml.expval(qml.Hermitian(y, wires=[0])) ,qml.expval(qml.Hermitian(y, wires=[1]))\n",
    "\n",
    "    def qc_2q(self):\n",
    "        x = self.reshape_input(self.x)\n",
    "        params, y = self.params, self.y    \n",
    "        for f_i in range(self.n_layers-1):\n",
    "            #p = params[f_i]\n",
    "            #print(x.shape)\n",
    "            x = jnp.array(ocs)\n",
    "            p = {i:j[f_i] for i,j in params.items()}\n",
    "            ocs = self.enc_circuit(p, x) if f_i==0 else self.circuit(p, x)\n",
    "            # ocs =  self.enc_circuit(self,p, x) if f_i==0 else self.circuit(p, x)\n",
    "            # print(qml.draw(self.enc_circuit)(self,p, x)) ## To print circuit, use @qml.qnode instead of @conditional_qnode \n",
    "\n",
    "            \n",
    "        p = {i:j[self.n_layers-1] for i,j in params.items()}\n",
    "        #p = params[self.n_layers-1]\n",
    "        ocs =  self.circuit_end(p, x, y)\n",
    "        x = ocs\n",
    "        return ocs\n",
    "    jqc_2q = jax.jit(qc_2q, static_argnums=(0))"
   ]
  },
  {
   "cell_type": "code",
   "execution_count": 14,
   "id": "d007b5fd-0f60-4177-82d6-ad9ebd42f9ab",
   "metadata": {
    "scrolled": true,
    "tags": []
   },
   "outputs": [],
   "source": [
    "# a=qcircuit(params, jnp.array([X_train[:,0],X_train[:,1]]), dm_labels[0],num_qubits, num_layers,num_reupload,num_rot,enc_dim)\n",
    "# zzz = a.qc_2q()"
   ]
  },
  {
   "cell_type": "code",
   "execution_count": 15,
   "id": "1e57ea9e-7f6b-430a-9ebb-9da2a6d3a4f8",
   "metadata": {
    "tags": []
   },
   "outputs": [],
   "source": [
    "# a=qcircuit(params, jnp.array([X_train[:,0],X_train[:,1]]), dm_labels[0], n_qubits, num_layers,enc_dim)\n",
    "# ccc = a.jqc_2q()"
   ]
  },
  {
   "cell_type": "code",
   "execution_count": 16,
   "id": "7a2978a7-5d45-448a-8661-b7bfdf33498f",
   "metadata": {
    "tags": []
   },
   "outputs": [],
   "source": [
    "#zzz[1]-ccc[1]"
   ]
  },
  {
   "cell_type": "code",
   "execution_count": 17,
   "id": "140d068f",
   "metadata": {
    "tags": []
   },
   "outputs": [],
   "source": [
    "def test(params, x, y, *args, **kwargs):\n",
    "    # args : num_qubits,num_layers,num_reupload,num_rot,enc_dim\n",
    "    #num_qubits,num_layers,num_reupload,num_rot,enc_dim = args if args else [None]*5\n",
    "        \n",
    "    def fidel_function(params, x_i,y):  \n",
    "        qc = qcircuit(params, x_i, y, num_qubits,num_layers,num_reupload,num_rot,enc_dim)\n",
    "        if noise:\n",
    "            return qc.qc_2q()\n",
    "        else:\n",
    "            print('circuit is jitted')\n",
    "            return qc.jqc_2q()\n",
    "\n",
    "    def jloss(params,fidelities,y_i):\n",
    "        b = 1 if shape==\"bitwise\" else 0        \n",
    "        #print('fidelities',fidelities.shape)\n",
    "        return sum([1/2*(params[num_layers+i,j]*fidelities[i,j]-Yc[y_i,2*i*b+j])**2 for  i in range(num_qubits) for j in range(num_class)])    \n",
    "        #return sum([-(Yc[y_i,2*i*b+j]*jnp.log(fidelities[i,j])) for  i in range(num_qubits) for j in range(num_class)])    \n",
    "        \n",
    "    def cost(params,x,y):\n",
    "        x_in = x.T   #[[0 vector],[x1 vector],[x2 vector]]\n",
    "        loss = 0\n",
    "        predicted = []\n",
    "        #print('yshape',y.shape)\n",
    "        tot_fidelities = jnp.array([fidel_function(params, x_in, dm) for dm in dm_labels]).T #shape:(N,#qubit,#class)\n",
    "        tot_fidelities = tot_fidelities.reshape(len(y),num_qubits,num_class)\n",
    "        \n",
    "        tot_fids = jax.vmap(jnp.kron,(0,0),0)(tot_fidelities[:,0],tot_fidelities[:,1]).reshape(len(y),num_qubits,num_class) if shape==\"bitwise\" else tot_fidelities\n",
    "        Loss = jax.vmap(jloss,(None,0,0))(params['loss'],tot_fids,y)\n",
    "        Loss = jnp.sum(Loss)/len(y)/num_qubits\n",
    "        predicted = jax.vmap(np.argmax)(tot_fids) if shape == \"bitwise\" else jax.vmap(np.argmax)(tot_fids)%num_class\n",
    "        return Loss, predicted\n",
    "\n",
    "    '''for diff input to same fun., if u take grad after operation it will csuse error\n",
    "       But do operation seperately (for diff input) and add together is ok '''\n",
    "    '''grad go to 0 if u diff over fun of fun； \n",
    "       which is: diff(fun(p)) is ok, but if f=fun(p), diff(f) is 0  \n",
    "       2022/12/26'''\n",
    "    (loss,predicted), grad = jax.value_and_grad(cost, has_aux=True)(params,x,y)\n",
    "    return jnp.array(predicted), loss, grad\n",
    "\n",
    "jtest =  test if noise else jax.jit(test) "
   ]
  },
  {
   "cell_type": "code",
   "execution_count": 18,
   "id": "f6ee485b-29d8-4e58-ba50-59fe3e850327",
   "metadata": {
    "tags": []
   },
   "outputs": [],
   "source": [
    "#@jax.jit\n",
    "def accuracy_score(y_true, y_pred):\n",
    "    score = y_true == y_pred\n",
    "    return score.sum().astype(int) / len(y_true)\n",
    "\n",
    "def iterate_minibatches(inputs, targets, batch_size):\n",
    "    for start_idx in range(0, inputs.shape[0], batch_size):\n",
    "        idxs = slice(start_idx, start_idx + batch_size)\n",
    "        yield inputs[idxs], targets[idxs]"
   ]
  },
  {
   "cell_type": "code",
   "execution_count": 19,
   "id": "c2488361-56f3-4e87-bba4-82b52f4db1ce",
   "metadata": {
    "tags": []
   },
   "outputs": [],
   "source": [
    "def scores(params, x_tr, y_tr, x_te=None, y_te=None, report=False):\n",
    "    \n",
    "    predicted_train, loss , grads = jtest(params, x_tr, y_tr)\n",
    "    accuracy_train = accuracy_score(y_tr, predicted_train)\n",
    "    \n",
    "    if x_te is None and y_te is None:\n",
    "        return accuracy_train, loss  \n",
    "    else:\n",
    "        predicted_test, loss_test , grads_test = jtest(params, x_te, y_te)\n",
    "        accuracy_test = accuracy_score(y_te, predicted_test)\n",
    "        if report:\n",
    "            from sklearn.metrics import classification_report\n",
    "            return classification_report(y_te, predicted_test)\n",
    "        else:\n",
    "            return accuracy_train, loss, accuracy_test, loss_test    "
   ]
  },
  {
   "cell_type": "code",
   "execution_count": 20,
   "id": "f0faacd4-5032-4a5f-b63d-11d9d81ea94c",
   "metadata": {
    "tags": []
   },
   "outputs": [],
   "source": [
    "def initialize_data(problem,n_training=None,n_test=None,seed_num=0,enc_dim=3):\n",
    "    def normalize(x,preprocess='scaling'):\n",
    "        from sklearn import preprocessing  \n",
    "        if preprocess:\n",
    "            preprocess = preprocess.lower()\n",
    "            preprocesses = [\"standardization\", \"scaling\", \"normalization\"]\n",
    "            if preprocess not in preprocesses:\n",
    "                raise ValueError(f'preprocess must be one of {preprocesses}')\n",
    "            if preprocess == 'standardization':\n",
    "                x = preprocessing.StandardScaler().fit(x).transform(x)*2*np.pi\n",
    "            if preprocess == 'scaling':\n",
    "                x = preprocessing.MinMaxScaler().fit_transform(x)*2*np.pi\n",
    "            if preprocess == 'normalization':\n",
    "                x = preprocessing.normalize(x, norm='l2')*2*np.pi\n",
    "        return x\n",
    "\n",
    "    if problem=='breast_cancer':\n",
    "        if n_training>569:\n",
    "            raise ValueError('num_training must < 569')\n",
    "        if n_test: global num_test # in order to change the global value of num_test\n",
    "        if num_test > 569-n_training:\n",
    "            num_test = n_test = 569-n_training\n",
    "            print('Warning: num_test is set to', num_test)\n",
    "        x,y = data_gen(problem,569,seed_num=seed_num)\n",
    "        Xtrain, Xtest, y_train, y_test = train_test_split(\n",
    "            x,y,test_size=n_test,train_size=n_training,\n",
    "            random_state=seed_num,stratify=y)\n",
    "    else:\n",
    "        Xtrain, y_train = data_gen(problem,n_training,seed_num=seed_num)\n",
    "        Xtest, y_test = data_gen(problem,n_test,seed_num=np.random.randint(1e6))\n",
    "    \n",
    "    X_train = Xtrain\n",
    "    X_test = Xtest\n",
    "        \n",
    "    X_train = normalize(X_train,preprocess)\n",
    "    X_test = normalize(X_test,preprocess)\n",
    "    \n",
    "\n",
    "    if n_training and n_test:\n",
    "        return X_train, y_train, X_test, y_test\n",
    "    else:\n",
    "        if n_training:\n",
    "            return X_train, y_train\n",
    "        else:\n",
    "            return X_test, y_test"
   ]
  },
  {
   "cell_type": "code",
   "execution_count": 21,
   "id": "f83afd3f-73da-4a19-a7d8-18087880ea94",
   "metadata": {
    "tags": []
   },
   "outputs": [],
   "source": [
    "# problem = 'breast_cancer'#'3 circles'#'moon'#\n",
    "# shape =  \"binary\"#\"tetrahedron\"#\"bitwise\" #\"square plane\"#\n",
    "# rot = 'zyz'#'yzy' #'xzx' #\n",
    "# num_training = 400\n",
    "# num_test = 500\n",
    "\n",
    "# num_qubits = 2\n",
    "# num_layers = 5\n",
    "\n",
    "# #learning_rate,epochs,batch_size,dynamic_size,threshold = [0.15,0.05,0.01], 3000 , 50,20, [0.05]\n",
    "# #learning_rate,epochs,batch_size,dynamic_size,threshold = [0.15,0.05,0.01,0.002,0.01],20000, 50,20, [0.05]#50, 0.01\n",
    "# learning_rate,epochs,batch_size,dynamic_size,threshold = [0.15,0.05,0.01,0.001,0.0001],60000, 400, 50, [0.05,0.05,0.005,0.0001]#50, 0.01\n",
    "# preprocess =  \"scaling\" #\"standardization\" # \"normalization\" #None#\n",
    "# seed_num = 42#"
   ]
  },
  {
   "cell_type": "code",
   "execution_count": 22,
   "id": "fdf2d195-5f52-435d-aa3b-2854ccd4a6f4",
   "metadata": {
    "tags": []
   },
   "outputs": [],
   "source": [
    "# ##\n",
    "# len_params = 12+enc_dim#len(X_train[0]) #12*params+dim_data*scaling factor\n",
    "# params = initiallize_params(num_layers, num_reupload, num_qubits, len_params, enc_dim, seed_num)\n",
    "# a=qcircuit(params, jnp.array([X_train[:,0],X_train[:,1]]), dm_labels[0],num_qubits, num_layers,num_reupload,enc_dim)\n",
    "# zzz = a.qc_2q()"
   ]
  },
  {
   "cell_type": "code",
   "execution_count": 23,
   "id": "c47e5980-bb4a-4dab-a9eb-ef529307520d",
   "metadata": {
    "tags": []
   },
   "outputs": [],
   "source": [
    "def initiallize_params(n_feedforward, n_reupload, n_qubits, enc_dim, n_rot, seed_num=40):\n",
    "    num_layers = n_feedforward\n",
    "    key = jax.random.PRNGKey(seed_num)\n",
    "    key_s, key_c, key_l = jax.random.split(key,3)\n",
    "    p_s = jax.random.uniform(key_s,(n_feedforward, n_reupload, n_qubits, enc_dim),dtype=jnp.float64) #12*params,2*scaling factor  \n",
    "    p_c = jax.random.uniform(key_c,(n_feedforward, n_reupload, n_qubits, n_rot, 3),dtype=jnp.float64)\n",
    "    p_l = jax.random.uniform(key_l,(n_qubits, num_class),dtype=jnp.float64)\n",
    "    p = {'params':p_s,'scaling':p_s, 'circ':p_c,'loss':p_l}\n",
    "    return p"
   ]
  },
  {
   "cell_type": "code",
   "execution_count": 24,
   "id": "bf1e7257-eb8b-4e0a-93cc-6a85ff090b39",
   "metadata": {
    "tags": []
   },
   "outputs": [],
   "source": [
    "# # Generate training and test data\n",
    "# start = time.process_time()\n",
    "# iter_lr = iter(learning_rate)\n",
    "# iter_thres = iter(list(threshold))\n",
    "# lr = next(iter_lr)\n",
    "# thres_n = next(iter_thres)\n",
    "\n",
    "# X_train, y_train, X_test, y_test = initialize_data(problem,num_training,num_test,seed_num,enc_dim)\n",
    "\n",
    "# # initialize random weights\n",
    "# len_params = 12+enc_dim#len(X_train[0]) #12*params+dim_data*scaling factor\n",
    "# params = initiallize_params(num_layers, num_reupload, num_qubits, len_params, enc_dim, num_rot, seed_num)\n",
    "\n",
    "\n",
    "# loss_history = []\n",
    "# accuracy_history = []\n",
    "# optimizer = optax.inject_hyperparams(optax.adam)(learning_rate=lr)#optax.adam(learning_rate=0.05)\n",
    "# opt_state = optimizer.init(params)"
   ]
  },
  {
   "cell_type": "code",
   "execution_count": 25,
   "id": "9b2aef84",
   "metadata": {
    "scrolled": true,
    "tags": []
   },
   "outputs": [],
   "source": [
    "# predicted_train, loss , grads = jtest(params, X_train, y_train)\n",
    "# accuracy_train = accuracy_score(y_train, predicted_train)\n",
    "# predicted_test, loss_test , grads_test = jtest(params, X_test, y_test)\n",
    "# accuracy_test = accuracy_score(y_test, predicted_test)\n",
    "\n",
    "# # save predictions with random weights for comparison\n",
    "# initial_predictions = predicted_test\n",
    "\n",
    "# start2 = time.process_time()\n",
    "# print(\"Epoch: {:2d} | Cost: {:3f} | Train accuracy: {:3f} | Test Accuracy: {:3f}\".format(0, loss, accuracy_train, accuracy_test))\n",
    "# print('compile time:',start2-start)"
   ]
  },
  {
   "cell_type": "code",
   "execution_count": 26,
   "id": "19300a69-c56b-41d6-9739-b62e7361842c",
   "metadata": {
    "scrolled": true,
    "tags": []
   },
   "outputs": [],
   "source": [
    "def fit(params: optax.Params, optimizer: optax.GradientTransformation,opt_state,x,y,x_valid=None,y_valid=None) -> optax.Params:\n",
    "  #opt_state = optimizer.init(params)\n",
    "  def step(params, opt_state,x,y):\n",
    "    loss_batches = jnp.array([])\n",
    "    predicted_train = jnp.array([])\n",
    "    iter_batch = iterate_minibatches(x, y, batch_size=batch_size)\n",
    "    for x_batch, y_batch in iter_batch:\n",
    "        predicted_batch, loss_batch , grads = jtest(params, x_batch, y_batch)\n",
    "        updates, opt_state = optimizer.update(grads, opt_state, params)\n",
    "        params = optax.apply_updates(params, updates)\n",
    "        loss_batches = jax.numpy.append(loss_batches,loss_batch)\n",
    "        predicted_train = jax.numpy.append(predicted_train, predicted_batch)\n",
    "    loss_value = jnp.average(loss_batches)\n",
    "    return params, opt_state, loss_value, predicted_train\n",
    "  n_converge = 0\n",
    "\n",
    "  \n",
    "  #loss_history = []\n",
    "  params_history = []\n",
    "  state_history = []\n",
    "  valid_accuracy_history=[]\n",
    "  ave_loss = 1\n",
    "  l_r = lr\n",
    "  thres = thres_n\n",
    "  for i  in range(max_epoch):\n",
    "    i=i+1\n",
    "    state_history.append(opt_state) #save value advance otherwise it saves the updated one\n",
    "    params_history.append(params)\n",
    "    \n",
    "    params, opt_state, loss_value , predicted_train= step(params, opt_state, x, y)\n",
    "    accuracy_train = accuracy_score(y, predicted_train)\n",
    "    \n",
    "    print(f'step {i}, accuracy_train:{accuracy_train}, loss: {loss_value}')\n",
    "    if x_valid is not None and y_valid is not None:\n",
    "        accuracy_valid, loss_valid = scores(params, x_valid, y_valid)\n",
    "        valid_loss_history.append(float(loss_valid))\n",
    "        valid_accuracy_history.append(float(accuracy_valid))\n",
    "    loss_history.append(float(loss_value))    \n",
    "    accuracy_history.append(float(accuracy_train))\n",
    "    \n",
    "    if i%dynamic_size==0:\n",
    "        c_ave = sum(loss_history[-dynamic_size:])/dynamic_size #current loss average\n",
    "        now_thres = abs(c_ave-ave_loss)/ave_loss\n",
    "        print(now_thres)\n",
    "        if  now_thres<=thres:\n",
    "            try:\n",
    "                l_r=next(iter_lr)#learning_rate\n",
    "                #loc_best_accuracy = np.argmax(accuracy_history[-dynamic_size:])-dynamic_size\n",
    "                loc_best_loss = np.argmin(loss_history[-dynamic_size:])-dynamic_size\n",
    "                params = params_history[loc_best_loss]\n",
    "                #print('best known accuracy:', accuracy_history[loc_best_accuracy]) #update lr based on accuracy\n",
    "                print('accuracy of best loss :', accuracy_history[loc_best_loss]) #update lr based on loss\n",
    "                \n",
    "                opt_state.hyperparams['learning_rate'] = l_r\n",
    "                #print('lr:', l_r, opt_state.hyperparams['learning_rate'])\n",
    "                try:\n",
    "                    thres = next(iter_thres)\n",
    "                except StopIteration:\n",
    "                    print(thres)\n",
    "            except StopIteration:\n",
    "                pass\n",
    "        print('lr:', l_r, opt_state.hyperparams['learning_rate'])\n",
    "        print(i)\n",
    "        n_converge  = n_converge+1 if now_thres<thres_converge else 0\n",
    "        ave_loss = c_ave\n",
    "        \n",
    "    if i==max_epoch or n_converge==max_n_converge:\n",
    "        n_converge = 1 if n_converge==0 else n_converge \n",
    "        #loc_best_accuracy = np.argmax(accuracy_history[-dynamic_size*10:])-dynamic_size*10\n",
    "        candidate_history = loss_history if x_valid is None else valid_loss_history\n",
    "        loc_best_loss = np.argmin(candidate_history[-dynamic_size*n_converge:])-dynamic_size*n_converge\n",
    "        params = params_history[loc_best_loss]\n",
    "        opt_state = state_history[loc_best_loss]\n",
    "        num_epoch = i\n",
    "        print('lr:', l_r, opt_state.hyperparams['learning_rate'])\n",
    "        print('accuracy of best loss:',accuracy_history[loc_best_loss],loc_best_loss)\n",
    "        #print('best known accuracy:',accuracy_history[loc_best_loss],loc_best_loss)\n",
    "        break\n",
    "  return params, l_r, opt_state, num_epoch"
   ]
  },
  {
   "cell_type": "code",
   "execution_count": 27,
   "id": "a7a65f50",
   "metadata": {
    "tags": []
   },
   "outputs": [
    {
     "name": "stdout",
     "output_type": "stream",
     "text": [
      "/mnt/c/Users/paes20705/OneDrive/桌面/Main Programs/Python/Jupyter/Research/References/universal_qlassifier-master/test/Figures/v9.9t/20240720-16\n"
     ]
    }
   ],
   "source": [
    "if 'lay' not in ver:\n",
    "    ver = ver+f'_lay{num_layers}'\n",
    "    ver = ver+'_'+backend+'_'+date if noise else ver+'_'+date\n",
    "#print(os.getcwd())\n",
    "filename = ver[:ver.index('_')]\n",
    "os.chdir(cwd)\n",
    "if not os.path.exists('Figures/'+filename+'/'+day):\n",
    "    try:\n",
    "        os.mkdir('Figures/'+filename)\n",
    "        os.mkdir('Figures/'+filename+'/'+day)\n",
    "        os.chdir('Figures/'+filename+'/'+day)\n",
    "    except FileExistsError:\n",
    "        os.mkdir('Figures/'+filename+'/'+day)\n",
    "        os.chdir('Figures/'+filename+'/'+day)\n",
    "    except Exception as e:\n",
    "        print(e)\n",
    "else: os.chdir('Figures/'+filename+'/'+day)\n",
    "print(os.getcwd())"
   ]
  },
  {
   "cell_type": "code",
   "execution_count": 28,
   "id": "052fb174-8c53-416d-b0d9-b2a4f0ae63ac",
   "metadata": {
    "tags": []
   },
   "outputs": [],
   "source": [
    "def plot_loss_history(l_h, val_l_h=[], setting=None, fig_name=''):\n",
    "    fig, ax = plt.subplots(1, 1)\n",
    "    plt.plot(range(len(l_h)),l_h,color=(255/255,100/255,100/255),label='Loss')\n",
    "    if val_l_h:\n",
    "        plt.plot(range(len(val_l_h)),val_l_h,color='g',label='Validation loss')\n",
    "    plt.title(\"Loss\") # title\n",
    "    plt.ylabel(\"loss\") # y label\n",
    "    plt.xlabel(\"epoch\") # x label\n",
    "    plt.legend()\n",
    "    plt.show()\n",
    "    if fig_name:\n",
    "        fig.savefig('{}.png'.format(fig_name), transparent=True)\n",
    "    elif fig_name is None:\n",
    "        pass  #don't save, just print\n",
    "    else:    \n",
    "        fig.savefig('{}_loss.png'.format(setting), transparent=True)        "
   ]
  },
  {
   "cell_type": "code",
   "execution_count": 29,
   "id": "6b3bf0c5-d961-40c8-979d-4dd4ba6acd3b",
   "metadata": {
    "tags": []
   },
   "outputs": [
    {
     "name": "stdout",
     "output_type": "stream",
     "text": [
      "(320, 5) (320,)\n",
      "(320, 5) (320,)\n",
      "(320, 5) (320,)\n",
      "(320, 5) (320,)\n",
      "(320, 5) (320,)\n"
     ]
    }
   ],
   "source": [
    "from sklearn.model_selection import StratifiedKFold\n",
    "x,y, X_test, y_test = initialize_data(problem,num_training,num_test,seed_num,enc_dim)\n",
    "\n",
    "skf = StratifiedKFold(n_splits=5)\n",
    "for index_tr, index_te in skf.split(x, y):\n",
    "    cv_xtr, cv_ytr = x[index_tr], y[index_tr]\n",
    "    cv_xte, cv_yte = x[index_te], y[index_te]\n",
    "    print(cv_xtr.shape,cv_ytr.shape)"
   ]
  },
  {
   "cell_type": "code",
   "execution_count": 30,
   "id": "7b28d30e-0e15-4e4f-be7f-f9e45afba8bf",
   "metadata": {
    "tags": []
   },
   "outputs": [],
   "source": [
    "def n_cv(n_fold, x, y, setting, *var, seed_num=42):\n",
    "    from sklearn.utils import shuffle\n",
    "    from sklearn.model_selection import StratifiedKFold\n",
    "    global loss_history,valid_loss_history, accuracy_history, loss_history_cvs \n",
    "    global iter_lr, iter_thres, lr, thres_n\n",
    "    \n",
    "    skf = StratifiedKFold(n_splits=5)\n",
    "    enc_dim,num_qubits,num_layers,num_reupload,num_rot = setting \n",
    "    start = time.process_time()\n",
    "    cv_rsts= []\n",
    "\n",
    "    for index_tr, index_te in skf.split(x, y):\n",
    "        cv_xtr, cv_ytr = x[index_tr], y[index_tr]\n",
    "        cv_xte, cv_yte = x[index_te], y[index_te]\n",
    "        \n",
    "        iter_lr = iter(learning_rate)\n",
    "        iter_thres = iter(list(threshold))\n",
    "        lr = next(iter_lr)\n",
    "        thres_n = next(iter_thres)\n",
    "        \n",
    "        # initialize random weights\n",
    "        params = initiallize_params(num_layers, num_reupload, num_qubits, enc_dim, num_rot, seed_num)\n",
    "        optimizer = optax.inject_hyperparams(optax.adam)(learning_rate=lr)#optax.adam(learning_rate=0.05)\n",
    "        opt_state = optimizer.init(params)\n",
    "\n",
    "        loss_history = []\n",
    "        valid_loss_history = []\n",
    "        accuracy_history = []\n",
    "\n",
    "        params, lr, opt_state, num_epoch = fit(params, optimizer, opt_state, cv_xtr, cv_ytr, cv_xte, cv_yte)\n",
    "        accuracy_train, loss, accuracy_test, loss_test = scores(params, cv_xtr, cv_ytr,cv_xte, cv_yte)\n",
    "        loss_history_cvs.append([loss_history,valid_loss_history])\n",
    "        print(\"Epoch: {:2d} | Cost: {:3f} | Train accuracy: {:3f} | Test Accuracy: {:3f}\".format(0, loss, accuracy_train, accuracy_test))\n",
    "        print(f\"(n_dim, n_q, n_f, n_r, n_rot) = {enc_dim, num_qubits, num_layers, num_reupload, num_rot}\")\n",
    "        cv_rsts.append([accuracy_test, loss])\n",
    "        plot_loss_history(loss_history, valid_loss_history, setting=setting, fig_name=None)\n",
    "        \n",
    "    end = time.process_time()\n",
    "    print(\"cv_time ：%f s\" % (end - start))\n",
    "    return sum(np.array(cv_rsts)[:,0])/n_fold, sum(np.array(cv_rsts)[:,1])/n_fold"
   ]
  },
  {
   "cell_type": "code",
   "execution_count": null,
   "id": "a52921e1-16c6-4200-ab3c-8a0e5cc9c5d0",
   "metadata": {
    "scrolled": true,
    "tags": []
   },
   "outputs": [],
   "source": [
    "# Grid search of hyper-parameters\n",
    "best_h_pm, h_pm_rsts =[], []\n",
    "cv_start = time.process_time()\n",
    "for setting in settings:\n",
    "    enc_dim,num_qubits,num_layers,num_reupload,num_rot = setting\n",
    "    X_train, y_train, X_test, y_test = initialize_data(problem,num_training,num_test,seed_num,enc_dim)\n",
    "    h_pm_rst=[]\n",
    "    loss_history_cvs=[]\n",
    "    for h_pm in h_pms:\n",
    "        learning_rate,max_epoch,batch_size,dynamic_size,threshold = h_pm\n",
    "        \n",
    "        seed_rsts, seed_params = [], []\n",
    "        loss_history, valid_loss_history = [], []\n",
    "        accuracy_history = []\n",
    "        h_pm_rst.append(n_cv(num_cvs, X_train, y_train,setting))\n",
    "        print(h_pm)\n",
    "\n",
    "        \n",
    "    h_pm_i = np.argmax(h_pm_rst,axis=0)[0]\n",
    "    best_h_pm.append(h_pm_i)\n",
    "    h_pm_rsts.append(h_pm_rst)\n",
    "    l_h_best, val_l_h_best = loss_history_cvs[h_pm_i]\n",
    "    plot_loss_history(l_h_best, val_l_h_best, setting=setting, fig_name=f'{setting}_loss_best_h_pms')\n",
    "t_cvs = time.process_time()-cv_start"
   ]
  },
  {
   "cell_type": "code",
   "execution_count": 32,
   "id": "c62597a8-4d83-4e29-8a99-9487409625ea",
   "metadata": {
    "scrolled": true,
    "tags": []
   },
   "outputs": [],
   "source": [
    "def run(seed_num, x_tr, y_tr, x_te=None, y_te=None, ratio_tr=0.875):\n",
    "    #if:   x_te=None & y_te=None -> choosing random seed with validation accuracy\n",
    "    #else: train and test\n",
    "    global loss_history, valid_loss_history, lr    \n",
    "    if x_te is None and y_te is None:\n",
    "        from sklearn.utils import shuffle\n",
    "        xs_tr, xs_val, ys_tr, ys_val = train_test_split(\n",
    "            x_tr,y_tr,train_size=ratio_tr,random_state=seed_num,stratify=y_tr)\n",
    "        # xs = shuffle(x_tr, random_state=seed_num, n_samples=None)\n",
    "        # ys = shuffle(y_tr, random_state=seed_num, n_samples=None)\n",
    "        # num_seed_train = int(num_training*ratio_tr)\n",
    "        # num_seed_valid = num_training-num_seed_train\n",
    "        # xs_tr = xs[:num_seed_train] \n",
    "        # ys_tr = ys[:num_seed_train]\n",
    "        # xs_val = xs[num_seed_train:] \n",
    "        # ys_val = ys[num_seed_train:] \n",
    "    else:\n",
    "        xs_tr, ys_tr, xs_val, ys_val = x_tr, y_tr, x_te, y_te\n",
    "\n",
    "    params = initiallize_params(num_layers, num_reupload, num_qubits, enc_dim, num_rot, seed_num)\n",
    "    optimizer = optax.inject_hyperparams(optax.adam)(learning_rate=lr)\n",
    "    opt_state = optimizer.init(params)\n",
    "    if x_te is None and y_te is None: # optimized by validation data but not peeking in true test data\n",
    "        params, lr, opt_state, num_epoch = fit(params, optimizer, opt_state, xs_tr, ys_tr,xs_val,ys_val)  \n",
    "    else: \n",
    "        params, lr, opt_state, num_epoch = fit(params, optimizer, opt_state, xs_tr, ys_tr)\n",
    "    accuracy_train, loss, accuracy_valid, loss_test = scores(params, xs_tr, ys_tr, x_te=xs_val, y_te=ys_val)\n",
    "    plot_loss_history(loss_history, valid_loss_history, setting=setting, fig_name=None)\n",
    "    \n",
    "    if x_te is None and y_te is None:\n",
    "        print(\"Epoch: {:2d} | Cost: {:3f} | Train accuracy: {:3f} | Validation Accuracy: {:3f}\".format(0, loss, accuracy_train, accuracy_valid))\n",
    "    else:\n",
    "        print(\"Epoch: {:2d} | Cost: {:3f} | Train accuracy: {:3f} | Test Accuracy: {:3f}\".format(0, loss, accuracy_train, accuracy_valid))\n",
    "    print(f\"(n_dim, n_q, n_f, n_r, n_rot) = {enc_dim, num_qubits, num_layers, num_reupload, num_rot}\")\n",
    "    \n",
    "    return params, [seed_num, accuracy_train, accuracy_valid, loss, num_epoch]"
   ]
  },
  {
   "cell_type": "code",
   "execution_count": null,
   "id": "ae7d7247-6100-4554-809b-44d66adc1363",
   "metadata": {
    "scrolled": true,
    "tags": []
   },
   "outputs": [],
   "source": [
    "t_seed_start = time.process_time()\n",
    "best_params = []\n",
    "for i,setting in enumerate(settings):\n",
    "    enc_dim,num_qubits,num_layers,num_reupload,num_rot = setting\n",
    "    learning_rate,max_epoch,batch_size,dynamic_size,threshold = h_pms[best_h_pm[i]]\n",
    "    t_seed_start = time.process_time()\n",
    "    # Generate training and test data\n",
    "    X_train, y_train, X_test, y_test = initialize_data(problem,num_training,num_test,seed_num,enc_dim)\n",
    "    seed_rsts, seed_params = [], []\n",
    "    loss_history_seeds= []\n",
    "    #run 10 seeds\n",
    "    for seed_num in seeds:\n",
    "        #########\n",
    "        loss_history = []\n",
    "        valid_loss_history = []\n",
    "        accuracy_history = []        \n",
    "        iter_lr = iter(learning_rate)\n",
    "        iter_thres = iter(list(threshold))\n",
    "        lr = next(iter_lr)\n",
    "        thres_n = next(iter_thres)\n",
    "        seed_rst = run(seed_num, X_train, y_train)\n",
    "        #########\n",
    "        seed_params.append(seed_rst[0])\n",
    "        seed_rsts.append(seed_rst[1])\n",
    "        loss_history_seeds.append([loss_history,valid_loss_history])\n",
    "    t_n_seeds = time.process_time()-t_seed_start\n",
    "    print('t_n_seeds:', t_n_seeds)\n",
    "    best_index = np.argmax(seed_rsts,axis=0)[2]  #best index based on validation accuracy->(seed_num,accuracy_train, accuracy_valid,...) \n",
    "    #best_rst = seed_rsts[best_index]\n",
    "    seed_num = seeds[best_index]\n",
    "    l_h_best, val_l_h_best = loss_history_seeds[best_index]\n",
    "    plot_loss_history(l_h_best, val_l_h_best, setting=setting,\n",
    "                      fig_name = f'{setting}_loss_best_seed')\n",
    "    #########\n",
    "    loss_history = []\n",
    "    valid_loss_history = []\n",
    "    accuracy_history = []\n",
    "    iter_lr = iter(learning_rate)\n",
    "    iter_thres = iter(list(threshold))\n",
    "    lr = next(iter_lr)\n",
    "    thres_n = next(iter_thres) \n",
    "    params,best_rst = run(seed_num, X_train, y_train, X_test, y_test, ratio_tr=1)\n",
    "    plot_loss_history(loss_history, setting=setting)\n",
    "    #########\n",
    "    best_params.append(params)\n",
    "    results.append([enc_dim,num_qubits,num_layers,num_reupload,num_rot,*best_rst, t_n_seeds])\n",
    "t_seeds = time.process_time()-t_seed_start"
   ]
  },
  {
   "cell_type": "code",
   "execution_count": 34,
   "id": "4c00fdca-e935-43b6-b5a5-b12816054888",
   "metadata": {
    "tags": []
   },
   "outputs": [],
   "source": [
    "def name_experiment(num_settings,start_value):\n",
    "    exp_name = '('\n",
    "    exp = ['enc','q','f','r','rot']\n",
    "    # if len(exp)!=len(num_settings): print(experiment styles not matched!)\n",
    "    for i, j in enumerate(num_settings):\n",
    "        exp_name = exp_name+f'{start_value[i]}' if j==1 else exp_name+f'{exp[i]}'\n",
    "        exp_name = exp_name+')' if i==len(exp)-1 else exp_name+','\n",
    "    return exp_name\n",
    "exp_name = name_experiment(num_settings,start_value)"
   ]
  },
  {
   "cell_type": "code",
   "execution_count": 35,
   "id": "8ce44469-2929-4281-89bb-e50f20ed5e20",
   "metadata": {
    "tags": []
   },
   "outputs": [
    {
     "name": "stdout",
     "output_type": "stream",
     "text": [
      "enc_dim 5\n",
      "num_qubits 1\n",
      "num_layers 1\n",
      "num_reupload 3\n",
      "num_rot  3\n",
      "seed_num 593\n",
      "Train_acc 0.93\n",
      "Test_acc 0.92\n",
      "loss 0.158690587519741\n",
      "num_epoch 1250\n",
      "time_10_seeds 153.78415989999485\n",
      "enc_dim 5\n",
      "num_qubits 2\n",
      "num_layers 1\n",
      "num_reupload 3\n",
      "num_rot  3\n",
      "seed_num 469\n",
      "Train_acc 0.9425\n",
      "Test_acc 0.91\n",
      "loss 0.0431591579579197\n",
      "num_epoch 950\n",
      "time_10_seeds 241.09274800000276\n",
      "enc_dim 5\n",
      "num_qubits 3\n",
      "num_layers 1\n",
      "num_reupload 3\n",
      "num_rot  3\n",
      "seed_num 898\n",
      "Train_acc 0.94\n",
      "Test_acc 0.96\n",
      "loss 0.04456811318287737\n",
      "num_epoch 1000\n",
      "time_10_seeds 342.4051252999998\n",
      "enc_dim 5\n",
      "num_qubits 4\n",
      "num_layers 1\n",
      "num_reupload 3\n",
      "num_rot  3\n",
      "seed_num 469\n",
      "Train_acc 0.9475\n",
      "Test_acc 0.88\n",
      "loss 0.037946925579571925\n",
      "num_epoch 3200\n",
      "time_10_seeds 981.8779726000066\n",
      "enc_dim 5\n",
      "num_qubits 5\n",
      "num_layers 1\n",
      "num_reupload 3\n",
      "num_rot  3\n",
      "seed_num 289\n",
      "Train_acc 0.94\n",
      "Test_acc 0.96\n",
      "loss 0.045481876042768474\n",
      "num_epoch 3200\n",
      "time_10_seeds 1635.3083314000032\n",
      "enc_dim 5\n",
      "num_qubits 6\n",
      "num_layers 1\n",
      "num_reupload 3\n",
      "num_rot  3\n",
      "seed_num 469\n",
      "Train_acc 0.9425\n",
      "Test_acc 0.89\n",
      "loss 0.04716709719643944\n",
      "num_epoch 1450\n",
      "time_10_seeds 3097.0500877000013\n",
      "enc_dim 5\n",
      "num_qubits 7\n",
      "num_layers 1\n",
      "num_reupload 3\n",
      "num_rot  3\n",
      "seed_num 289\n",
      "Train_acc 0.94\n",
      "Test_acc 0.95\n",
      "loss 0.04626717849592288\n",
      "num_epoch 2050\n",
      "time_10_seeds 5791.571523699997\n"
     ]
    },
    {
     "data": {
      "text/html": [
       "<div>\n",
       "<style scoped>\n",
       "    .dataframe tbody tr th:only-of-type {\n",
       "        vertical-align: middle;\n",
       "    }\n",
       "\n",
       "    .dataframe tbody tr th {\n",
       "        vertical-align: top;\n",
       "    }\n",
       "\n",
       "    .dataframe thead th {\n",
       "        text-align: right;\n",
       "    }\n",
       "</style>\n",
       "<table border=\"1\" class=\"dataframe\">\n",
       "  <thead>\n",
       "    <tr style=\"text-align: right;\">\n",
       "      <th></th>\n",
       "      <th>enc_dim</th>\n",
       "      <th>num_qubits</th>\n",
       "      <th>num_layers</th>\n",
       "      <th>num_reupload</th>\n",
       "      <th>num_rot</th>\n",
       "      <th>seed_num</th>\n",
       "      <th>Train_acc</th>\n",
       "      <th>Test_acc</th>\n",
       "      <th>loss</th>\n",
       "      <th>num_epoch</th>\n",
       "      <th>time_10_seeds</th>\n",
       "    </tr>\n",
       "  </thead>\n",
       "  <tbody>\n",
       "    <tr>\n",
       "      <th>0</th>\n",
       "      <td>5</td>\n",
       "      <td>1</td>\n",
       "      <td>1</td>\n",
       "      <td>3</td>\n",
       "      <td>3</td>\n",
       "      <td>593.0</td>\n",
       "      <td>0.9300</td>\n",
       "      <td>0.92</td>\n",
       "      <td>0.158691</td>\n",
       "      <td>1250.0</td>\n",
       "      <td>153.784160</td>\n",
       "    </tr>\n",
       "    <tr>\n",
       "      <th>1</th>\n",
       "      <td>5</td>\n",
       "      <td>2</td>\n",
       "      <td>1</td>\n",
       "      <td>3</td>\n",
       "      <td>3</td>\n",
       "      <td>469.0</td>\n",
       "      <td>0.9425</td>\n",
       "      <td>0.91</td>\n",
       "      <td>0.043159</td>\n",
       "      <td>950.0</td>\n",
       "      <td>241.092748</td>\n",
       "    </tr>\n",
       "    <tr>\n",
       "      <th>2</th>\n",
       "      <td>5</td>\n",
       "      <td>3</td>\n",
       "      <td>1</td>\n",
       "      <td>3</td>\n",
       "      <td>3</td>\n",
       "      <td>898.0</td>\n",
       "      <td>0.9400</td>\n",
       "      <td>0.96</td>\n",
       "      <td>0.044568</td>\n",
       "      <td>1000.0</td>\n",
       "      <td>342.405125</td>\n",
       "    </tr>\n",
       "    <tr>\n",
       "      <th>3</th>\n",
       "      <td>5</td>\n",
       "      <td>4</td>\n",
       "      <td>1</td>\n",
       "      <td>3</td>\n",
       "      <td>3</td>\n",
       "      <td>469.0</td>\n",
       "      <td>0.9475</td>\n",
       "      <td>0.88</td>\n",
       "      <td>0.037947</td>\n",
       "      <td>3200.0</td>\n",
       "      <td>981.877973</td>\n",
       "    </tr>\n",
       "    <tr>\n",
       "      <th>4</th>\n",
       "      <td>5</td>\n",
       "      <td>5</td>\n",
       "      <td>1</td>\n",
       "      <td>3</td>\n",
       "      <td>3</td>\n",
       "      <td>289.0</td>\n",
       "      <td>0.9400</td>\n",
       "      <td>0.96</td>\n",
       "      <td>0.045482</td>\n",
       "      <td>3200.0</td>\n",
       "      <td>1635.308331</td>\n",
       "    </tr>\n",
       "    <tr>\n",
       "      <th>5</th>\n",
       "      <td>5</td>\n",
       "      <td>6</td>\n",
       "      <td>1</td>\n",
       "      <td>3</td>\n",
       "      <td>3</td>\n",
       "      <td>469.0</td>\n",
       "      <td>0.9425</td>\n",
       "      <td>0.89</td>\n",
       "      <td>0.047167</td>\n",
       "      <td>1450.0</td>\n",
       "      <td>3097.050088</td>\n",
       "    </tr>\n",
       "    <tr>\n",
       "      <th>6</th>\n",
       "      <td>5</td>\n",
       "      <td>7</td>\n",
       "      <td>1</td>\n",
       "      <td>3</td>\n",
       "      <td>3</td>\n",
       "      <td>289.0</td>\n",
       "      <td>0.9400</td>\n",
       "      <td>0.95</td>\n",
       "      <td>0.046267</td>\n",
       "      <td>2050.0</td>\n",
       "      <td>5791.571524</td>\n",
       "    </tr>\n",
       "  </tbody>\n",
       "</table>\n",
       "</div>"
      ],
      "text/plain": [
       "   enc_dim  num_qubits  num_layers  num_reupload  num_rot   seed_num  \\\n",
       "0        5           1           1             3         3     593.0   \n",
       "1        5           2           1             3         3     469.0   \n",
       "2        5           3           1             3         3     898.0   \n",
       "3        5           4           1             3         3     469.0   \n",
       "4        5           5           1             3         3     289.0   \n",
       "5        5           6           1             3         3     469.0   \n",
       "6        5           7           1             3         3     289.0   \n",
       "\n",
       "   Train_acc  Test_acc      loss  num_epoch  time_10_seeds  \n",
       "0     0.9300      0.92  0.158691     1250.0     153.784160  \n",
       "1     0.9425      0.91  0.043159      950.0     241.092748  \n",
       "2     0.9400      0.96  0.044568     1000.0     342.405125  \n",
       "3     0.9475      0.88  0.037947     3200.0     981.877973  \n",
       "4     0.9400      0.96  0.045482     3200.0    1635.308331  \n",
       "5     0.9425      0.89  0.047167     1450.0    3097.050088  \n",
       "6     0.9400      0.95  0.046267     2050.0    5791.571524  "
      ]
     },
     "metadata": {},
     "output_type": "display_data"
    }
   ],
   "source": [
    "import pandas as pd\n",
    "data = {'enc_dim' : [],\n",
    "        'num_qubits' : [],\n",
    "        'num_layers' : [],\n",
    "        'num_reupload' : [],\n",
    "        'num_rot ': [],\n",
    "        'seed_num' : [],\n",
    "        'Train_acc' : [],\n",
    "        'Test_acc' : [],\n",
    "        'loss' : [],\n",
    "        'num_epoch':[],\n",
    "        f'time_{num_seeds}_seeds' : []}\n",
    "for result in results:\n",
    "    for i,(d,r) in enumerate(zip(data,result)):\n",
    "        print(d,r)\n",
    "        if i<5: data[d].append(int(r));\n",
    "        else:   data[d].append(float(r))\n",
    "\n",
    "# 将数据转换为DataFrame\n",
    "df = pd.DataFrame(data)\n",
    "df.style.hide()\n",
    "# 显示DataFrame\n",
    "#print(df.to_string(index=False))\n",
    "# 若要在Jupyter Notebook中显示漂亮的表格，可以使用以下方法\n",
    "display(df)\n",
    "# 如果需要将DataFrame保存为HTML文件，可以使用以下方法\n",
    "# df.to_html('table.html')\n",
    "\n",
    "# Export to Excel\n",
    "excel_file_path = f'Data_{exp_name}.xlsx'\n",
    "sheet_name = 'Sheet1'\n",
    "\n",
    "df.to_excel(excel_file_path, index=False, sheet_name=sheet_name)"
   ]
  },
  {
   "cell_type": "code",
   "execution_count": 36,
   "id": "ae2ea0b8-7f53-4d71-9bd6-2865848117fa",
   "metadata": {},
   "outputs": [],
   "source": [
    "rec_settings = {'problem':problem,\n",
    "                'shape':shape, \n",
    "                'rot':rot,\n",
    "                'num_training':len(X_train),\n",
    "                'num_test':len(X_test),\n",
    "                'preprocess':preprocess,\n",
    "                'max_converge_number':max_n_converge,\n",
    "                'threshold_of_converge':thres_converge,\n",
    "                'data_seed_num': data_seed_num,\n",
    "                'param_seed_nums': seeds,\n",
    "                f't_{num_cvs}_cv': f'{t_cvs} s',\n",
    "                f't_{num_seeds}_seeds': f'{t_seeds} s',\n",
    "                '[enc_dim,num_qubits,num_layers,num_reupload,num_rot]':settings,\n",
    "                '[learning_rate,max_epoch,batch_size,dynamic_size,threshold]':[h_pms[i] for i in best_h_pm ]\n",
    "               }\n",
    "#dict_settings = {k:v for i,(k,v) in enumerate(data.items()) if i<6 }"
   ]
  },
  {
   "cell_type": "code",
   "execution_count": 37,
   "id": "c4b0f987-ca8d-4500-8647-681fa873ad89",
   "metadata": {},
   "outputs": [],
   "source": [
    "F = open(\"{}_settings.txt\".format(ver), \"w\")\n",
    "for i,j in rec_settings.items():\n",
    "    F.write(i+\": {}\\n\".format(j))\n",
    "\n",
    "\n",
    "# F.write(\"t_{}_cv: {} s\\n\".format(num_cvs, t_cvs))    \n",
    "# F.write(\"t_{}_seeds: {} s\\n\".format(num_seeds, t_seeds))\n",
    "\n",
    "F.write(\"params ：{} \\n\".format(best_params))\n",
    "F.close()"
   ]
  },
  {
   "cell_type": "code",
   "execution_count": 38,
   "id": "3a4fa5b0-856b-45f9-9229-73087ae555a6",
   "metadata": {
    "tags": []
   },
   "outputs": [
    {
     "name": "stdout",
     "output_type": "stream",
     "text": [
      "36336.2923276\n"
     ]
    },
    {
     "data": {
      "text/plain": [
       "6245.891732299999"
      ]
     },
     "execution_count": 38,
     "metadata": {},
     "output_type": "execute_result"
    }
   ],
   "source": [
    "print(t_cvs)\n",
    "t_seeds"
   ]
  },
  {
   "cell_type": "code",
   "execution_count": 39,
   "id": "bd6a5bc7",
   "metadata": {
    "tags": []
   },
   "outputs": [],
   "source": [
    "# F = open(\"{}_settings.txt\".format(ver), \"w\")\n",
    "# settings = [problem,num_training,num_test,num_qubits,num_layers,learning_rate,epochs\n",
    "#             ,batch_size,dynamic_size,threshold,preprocess,seed_num]\n",
    "# F.write((\"problem:{}\\n\"+\"num_training:{}\\n\"+\"num_test:{}\\n\"+\"num_qubits:{}\\n\"+\"num_layers:{}\\n\"+\"learning_rate:{}\\n\"+\" epochs:{}\\n\"\n",
    "#          +\"batch_size:{}\\n\"+\"dynamic_size:{}\\n\"+\"threshold:{}\\n\"+\"preprocess:{}\\n\"+\"seed_num:{}\\n\").format(*settings))\n",
    "# F.write(\"process_time ：{} \\n\".format(t_tot))\n",
    "# F.write(\"params ：{} \\n\".format(params))\n",
    "# print(params)\n",
    "# F.close()"
   ]
  },
  {
   "cell_type": "code",
   "execution_count": 51,
   "id": "571e9c04-b7ca-4c12-aea7-cd47c3ef4721",
   "metadata": {
    "tags": []
   },
   "outputs": [
    {
     "data": {
      "image/png": "[encoded data removed]",
      "text/plain": [
       "<Figure size 640x480 with 1 Axes>"
      ]
     },
     "metadata": {},
     "output_type": "display_data"
    }
   ],
   "source": [
    "for run_exp, x_label in zip([i != 1 for i in num_settings],data):\n",
    "    if run_exp:\n",
    "        fig, ax = plt.subplots(1, 1)\n",
    "        ax.set_ylim([0.5, 1])\n",
    "        plt.plot(data[x_label],data['Train_acc'],color=(255/255,100/255,100/255),label='Train_acc')\n",
    "        plt.plot(data[x_label],data['Test_acc'],color='g',label='Test_acc')\n",
    "        for i,j,k in zip(data[x_label],data['Train_acc'],data['Test_acc']):\n",
    "            ax.annotate(f'{j}', xy=(i,j), xytext=(0,-10), textcoords='offset points' ,ha='center')\n",
    "            ax.annotate(f'{k}', xy=(i,k), xytext=(0,-10), textcoords='offset points' ,ha='center')\n",
    "        plt.title(\"Accuracy\") # title\n",
    "        plt.ylabel(\"accuracy\") # y label\n",
    "        plt.xlabel(x_label) # x label\n",
    "        plt.legend()\n",
    "        plt.show()\n",
    "        fig.savefig(f'Accuracy-{x_label}.png', transparent=True)"
   ]
  },
  {
   "cell_type": "code",
   "execution_count": 54,
   "id": "6ddeea78-fc90-48a5-8fbe-8cf2d4c8f420",
   "metadata": {
    "tags": []
   },
   "outputs": [
    {
     "name": "stdout",
     "output_type": "stream",
     "text": [
      "[[1, 1, 1, 1], [1, 1, 1, 2], [1, 1, 1, 3], [1, 1, 1, 4], [1, 1, 1, 5], [1, 1, 2, 2], [1, 1, 2, 3], [1, 1, 2, 4], [1, 1, 2, 5], [1, 1, 3, 3], [1, 1, 3, 4], [1, 1, 3, 5], [1, 1, 4, 4], [1, 1, 4, 5], [1, 1, 5, 5], [1, 2, 2, 2], [1, 2, 2, 3], [1, 2, 2, 4], [1, 2, 2, 5], [1, 2, 3, 3], [1, 2, 3, 4], [1, 2, 3, 5], [1, 2, 4, 4], [1, 2, 4, 5], [1, 2, 5, 5], [1, 3, 3, 3], [1, 3, 3, 4], [1, 3, 3, 5], [1, 3, 4, 4], [1, 3, 4, 5], [1, 3, 5, 5], [1, 4, 4, 4], [1, 4, 4, 5], [1, 4, 5, 5], [1, 5, 5, 5], [2, 2, 2, 2], [2, 2, 2, 3], [2, 2, 2, 4], [2, 2, 2, 5], [2, 2, 3, 3], [2, 2, 3, 4], [2, 2, 3, 5], [2, 2, 4, 4], [2, 2, 4, 5], [2, 2, 5, 5], [2, 3, 3, 3], [2, 3, 3, 4], [2, 3, 3, 5], [2, 3, 4, 4], [2, 3, 4, 5], [2, 3, 5, 5], [2, 4, 4, 4], [2, 4, 4, 5], [2, 4, 5, 5], [2, 5, 5, 5], [3, 3, 3, 3], [3, 3, 3, 4], [3, 3, 3, 5], [3, 3, 4, 4], [3, 3, 4, 5], [3, 3, 5, 5], [3, 4, 4, 4], [3, 4, 4, 5], [3, 4, 5, 5], [3, 5, 5, 5], [4, 4, 4, 4], [4, 4, 4, 5], [4, 4, 5, 5], [4, 5, 5, 5], [5, 5, 5, 5]]\n"
     ]
    }
   ],
   "source": [
    "def backtrack(n, k, start, path, result):\n",
    "    if len(path) == k:\n",
    "        result.append(path[:])\n",
    "        return\n",
    "    \n",
    "    for i in range(start, n + 1):\n",
    "        path.append(i)\n",
    "        backtrack(n, k, i, path, result)  # Use i instead of i+1 to allow duplicates\n",
    "        path.pop()\n",
    "\n",
    "def generate_combinations(n, k):\n",
    "    result = []\n",
    "    backtrack(n, k, 1, [], result)\n",
    "    return result\n",
    "\n",
    "# Example usage:\n",
    "n = 5  # Range from 1 to 5\n",
    "k = 4  # Length of the array\n",
    "combinations = generate_combinations(n, k)\n",
    "print((combinations))\n"
   ]
  },
  {
   "cell_type": "code",
   "execution_count": 42,
   "id": "ba065897-fa97-4479-b76a-d682a847d1f9",
   "metadata": {
    "tags": []
   },
   "outputs": [
    {
     "name": "stdout",
     "output_type": "stream",
     "text": [
      "[[0.15, 0.05, 0.01], 3200, 50, 50, [0.05, 0.03, 0.01]]\n",
      "[[0.15, 0.05, 0.01, 0.001, 0.0001], 3200, 100, 50, [0.05, 0.03, 0.01]]\n",
      "[[0.15, 0.05, 0.01, 0.001, 0.0001], 3200, 50, 50, [0.05, 0.03, 0.01]]\n",
      "[[0.15, 0.05, 0.01], 3200, 100, 50, [0.05, 0.03, 0.01]]\n",
      "[[0.15, 0.05, 0.01], 3200, 100, 50, [0.05, 0.03, 0.01]]\n",
      "[[0.15, 0.05, 0.01], 3200, 300, 50, [0.05, 0.03, 0.01]]\n",
      "[[0.15, 0.05, 0.01], 3200, 100, 50, [0.05, 0.03, 0.01]]\n"
     ]
    },
    {
     "data": {
      "text/plain": [
       "[0, 4, 3, 1, 1, 2, 1]"
      ]
     },
     "execution_count": 42,
     "metadata": {},
     "output_type": "execute_result"
    }
   ],
   "source": [
    "for i in best_h_pm:\n",
    "    print(h_pms[i])\n",
    "best_h_pm"
   ]
  },
  {
   "cell_type": "code",
   "execution_count": 43,
   "id": "4fef0c50-d101-4b5e-b293-713fad496c25",
   "metadata": {
    "tags": []
   },
   "outputs": [
    {
     "name": "stdout",
     "output_type": "stream",
     "text": [
      "Time for classical NN: 732.7974520000062 s\n",
      "[0.93875]\n",
      "[0.869]\n",
      "[0.92, 0.91, 0.96, 0.88, 0.96, 0.89, 0.95]\n"
     ]
    },
    {
     "data": {
      "text/plain": [
       "[20]"
      ]
     },
     "execution_count": 43,
     "metadata": {},
     "output_type": "execute_result"
    }
   ],
   "source": [
    "from sklearn.neural_network import MLPClassifier\n",
    "from sklearn.model_selection import cross_val_score\n",
    "from sklearn.metrics import accuracy_score, classification_report\n",
    "\n",
    "X_train, y_train, X_test, y_test = initialize_data(problem,num_training,num_test,seed_num,enc_dim)\n",
    "max_search_n=20\n",
    "n_nodes = []\n",
    "t1_c = time.process_time()\n",
    "for f in range(r_f):\n",
    "    scores=[]\n",
    "    for n in range(max_search_n):\n",
    "        size = [n+1]*(f+1)\n",
    "        clf = MLPClassifier(solver='adam', alpha=1e-5,hidden_layer_sizes=size, \n",
    "                            random_state=data_seed_num,max_iter=6000, warm_start=False)\n",
    "        score = np.min(cross_val_score(clf, X_train, y_train, cv=10))  \n",
    "        if score >= data['Test_acc'][f] or n == (max_search_n-1): \n",
    "            n_nodes.append(n+1)\n",
    "            break\n",
    "\n",
    "sizes = [[n_nodes[f]]*(f+1) for f in range(r_f)]\n",
    "accuracy_tr, accuracy=[],[]\n",
    "\n",
    "for size in sizes:\n",
    "    seed_tr_rsts, seed_rsts = [], []\n",
    "    for seed in seeds:\n",
    "        clf = MLPClassifier(solver='adam', alpha=1e-5,hidden_layer_sizes=size, \n",
    "                                random_state=seed,max_iter=6000, warm_start=False)\n",
    "        clf.fit(X_train, y_train)\n",
    "        y_pred_tr = clf.predict(X_train)\n",
    "        y_pred = clf.predict(X_test)\n",
    "        # report = classification_report(y_test, y_pred)\n",
    "        seed_tr_rsts.append(accuracy_score(y_train, y_pred_tr))\n",
    "        seed_rsts.append(accuracy_score(y_test, y_pred))\n",
    "    accuracy_tr.append(np.average(seed_tr_rsts))\n",
    "    accuracy.append(np.average(seed_rsts))\n",
    "t_c_tot = time.process_time()-t1_c\n",
    "print(f'Time for classical NN: {t_c_tot} s')\n",
    "print(accuracy_tr)\n",
    "print(accuracy)\n",
    "print(data['Test_acc'])\n",
    "n_nodes"
   ]
  },
  {
   "cell_type": "code",
   "execution_count": 44,
   "id": "9e257819-ba44-4e71-bba8-4c2104818bee",
   "metadata": {
    "tags": []
   },
   "outputs": [
    {
     "name": "stdout",
     "output_type": "stream",
     "text": [
      "Number of params in NN model: [162]\n",
      "Number of params in QNN model: [44, 88, 132, 176, 220, 264, 308]\n"
     ]
    }
   ],
   "source": [
    "def param_n_model(setting, model='NN'):\n",
    "    if model=='NN':\n",
    "        n_nodes = setting\n",
    "        \n",
    "        n_params = []\n",
    "        r_f = len(n_nodes)\n",
    "        for f in range(r_f):\n",
    "            n_p=0\n",
    "            for i in range(f+1):\n",
    "                n_p=n_p+(len(X_train[0])+1)*n_nodes[f] if i==0  else n_p\n",
    "                n_p=n_p+(n_nodes[i]+1)*num_class if i==(r_f-1) else n_p\n",
    "                n_p=n_p+(n_nodes[f]+1)*n_nodes[f] if i!=0 or i!=(r_f-1) else n_p\n",
    "            n_params.append(n_p)\n",
    "    if model=='QNN':\n",
    "        enc_dim,num_qubits,num_layers,num_reupload,num_rot = setting\n",
    "        n_params = (enc_dim +n_rot*3)*num_qubits*num_reupload*num_layers+ num_class* num_qubits\n",
    "\n",
    "    return n_params\n",
    "num_params_NN = param_n_model(n_nodes,model='NN')\n",
    "num_params_QNN = [param_n_model(setting,model='QNN') for setting in settings]\n",
    "\n",
    "print('Number of params in NN model:', num_params_NN)\n",
    "print('Number of params in QNN model:', num_params_QNN)"
   ]
  },
  {
   "cell_type": "code",
   "execution_count": null,
   "id": "d531d915-2fd4-4a17-9136-12386bcb06c5",
   "metadata": {
    "tags": []
   },
   "outputs": [],
   "source": [
    "import pandas as pd\n",
    "c_values=np.array([n_nodes,accuracy_tr,accuracy,data['Test_acc'],\n",
    "                   num_params_NN,num_params_QNN,[t_c_tot]*len(settings)])\n",
    "c_values=np.append(settings,c_values.T, axis=1)\n",
    "c_data = {'enc_dim' : [],\n",
    "        'num_qubits' : [],\n",
    "        'num_layers' : [],\n",
    "        'num_reupload' : [],\n",
    "        'num_rot ': [],\n",
    "        'num_c_nodes ': [],\n",
    "        'C_train_acc' : [],\n",
    "        'C_test_acc' : [],\n",
    "        'Q_test_acc' : [],\n",
    "        'num_params_NN' : [],\n",
    "        'num_params_QNN' : [],\n",
    "        f'time_{num_seeds}_seeds' : []}\n",
    "for result in c_values:\n",
    "    for i,(d,r) in enumerate(zip(c_data,result)):\n",
    "        if i<6: c_data[d].append(int(r));\n",
    "        else:   c_data[d].append(float(r))\n",
    "df = pd.DataFrame(c_data)\n",
    "df.style.hide()\n",
    "display(df)\n",
    "# Export to Excel\n",
    "excel_file_path = f'classical_data_comparism.xlsx'\n",
    "sheet_name = 'Sheet1'\n",
    "df.to_excel(excel_file_path, index=False, sheet_name=sheet_name)"
   ]
  },
  {
   "cell_type": "code",
   "execution_count": null,
   "id": "17ba514b-c95e-46f3-8bac-7e49e62009a4",
   "metadata": {
    "tags": []
   },
   "outputs": [],
   "source": [
    "for fx"
   ]
  },
  {
   "cell_type": "code",
   "execution_count": null,
   "id": "b297cdbe-5138-43c9-8541-216c34ea6353",
   "metadata": {
    "tags": []
   },
   "outputs": [],
   "source": [
    "from qiskit.providers.fake_provider import FakeBelem\n",
    "backend = FakeBelem()\n",
    "# backend.qubit_properties()\n",
    "from datetime import datetime\n",
    "\n",
    "t = datetime(day=15, month=4, year=2020, hour=10)\n",
    "backend.properties(datetime=t)"
   ]
  },
  {
   "cell_type": "code",
   "execution_count": null,
   "id": "6ec2c0c3-1e50-455f-9ec9-f779fb3abffd",
   "metadata": {
    "tags": []
   },
   "outputs": [],
   "source": [
    "X_test.shape"
   ]
  },
  {
   "cell_type": "code",
   "execution_count": null,
   "id": "14814962",
   "metadata": {},
   "outputs": [],
   "source": [
    "F = open(\"{}_settings.txt\".format(ver), \"a\")\n",
    "print(\n",
    "    \"Cost: {:3f} | Train accuracy {:3f} | Test Accuracy : {:3f}\".format(\n",
    "        loss, accuracy_train, accuracy_test\n",
    "    ), file = F)#)#\n",
    "\n",
    "fig, axes = plt.subplots(1, 3, figsize=(10, 3))\n",
    "plot_data(X_test[:,:], initial_predictions, fig, axes[0])\n",
    "plot_data(X_test[:,:], predicted_test, fig, axes[1])\n",
    "plot_data(X_test[:,:], y_test, fig, axes[2])\n",
    "axes[0].set_title(\"Predictions with random weights\")\n",
    "axes[1].set_title(\"Training Accuracy = {} \\n Test Accuracy = {}\".format(accuracy_train,accuracy_test))\n",
    "axes[2].set_title(\"True test data \\n # of points = {}\".format(num_test))\n",
    "plt.tight_layout()\n",
    "plt.show()\n",
    "fig.savefig('{}_train.png'.format(ver), transparent=True)"
   ]
  },
  {
   "cell_type": "code",
   "execution_count": null,
   "id": "e68c78ff-43b0-4580-84e0-7a4f528a0fda",
   "metadata": {
    "tags": []
   },
   "outputs": [],
   "source": [
    "#initialize_data(problem,num_Test,seed_num=seed_num)"
   ]
  },
  {
   "cell_type": "code",
   "execution_count": null,
   "id": "da2d8fd2",
   "metadata": {
    "tags": []
   },
   "outputs": [],
   "source": [
    "num_Test = 568\n",
    "\n",
    "X_Test, y_Test = initialize_data(problem,num_Test,seed_num=seed_num)#data_gen(problem,num_Test,seed_num=np.random.randint(num_Test))#circle(num_test)#\n",
    "predicted_Test, loss, _  = test(params, X_Test, y_Test)\n",
    "accuracy_Test = accuracy_score(y_Test, predicted_Test)  \n",
    "\n",
    "\n",
    "print(\"Cost: {:3f} | Train accuracy {:3f} | Test Accuracy : {:3f}\".format(\n",
    "        loss, accuracy_train, accuracy_Test), file = F)\n",
    "\n",
    "\n",
    "\n",
    "fig, axes = plt.subplots(1, 3, figsize=(10, 3))\n",
    "plot_data(X_train[:,:,], y_train, fig, axes[0])\n",
    "plot_data(X_Test[:,:], predicted_Test, fig, axes[1])\n",
    "plot_data(X_Test[:,:], y_Test, fig, axes[2])\n",
    "axes[0].set_title(\"Training data\")\n",
    "axes[1].set_title(\"Predictions after training \\n Accuracy = {}\".format(accuracy_Test))\n",
    "axes[2].set_title(\"True test data \\n # of points = {}\".format(num_Test))\n",
    "plt.tight_layout()\n",
    "plt.show()\n",
    "fig.savefig('{}_test.png'.format(ver), transparent=True)\n",
    "print(\"process_time ：%f s\" % (time.process_time()- end))"
   ]
  },
  {
   "cell_type": "code",
   "execution_count": null,
   "id": "1864d0c5-1a5b-493d-b110-c7da1a70227d",
   "metadata": {},
   "outputs": [],
   "source": [
    "for fx"
   ]
  },
  {
   "cell_type": "code",
   "execution_count": null,
   "id": "cb9e607a",
   "metadata": {
    "scrolled": true
   },
   "outputs": [],
   "source": [
    "%whos "
   ]
  },
  {
   "cell_type": "code",
   "execution_count": null,
   "id": "b162739b-d4ce-45fa-b92c-f6efa0dc9314",
   "metadata": {
    "tags": []
   },
   "outputs": [],
   "source": [
    "# from qiskit_ibm_provider import least_busy\n",
    "# backend = least_busy(provider.backends(min_num_qubits=5,simulator=False,operational=True))\n",
    "# backend = backend.name\n",
    "# print(backend)"
   ]
  },
  {
   "cell_type": "code",
   "execution_count": null,
   "id": "4d5c53fa-83fc-4cec-931e-55d2a40d93b4",
   "metadata": {
    "tags": []
   },
   "outputs": [],
   "source": [
    "#noisy device\n",
    "str_error = None\n",
    "noise=True\n",
    "noise_num_Test = 100\n",
    "sleep_time = 2\n",
    "num_retries = 10\n",
    "noise_batch_size = 9 if real_device else noise_num_Test\n",
    "#ver = ver+'_'+backend if noise else ver\n",
    "\n",
    "noise_start = time.time()\n",
    "noise_XTest, noise_y_Test = data_gen(problem,noise_num_Test,seed_num=noise_num_Test)#circle(num_test)#\n",
    "noise_X_Test = np.hstack((np.zeros((noise_num_Test,1)), noise_XTest))\n",
    "noise_predicted_Test = jnp.array([])\n",
    "noise_minibatches = iterate_minibatches(noise_X_Test, noise_y_Test, batch_size=noise_batch_size)\n",
    "backend = 'ibm_algiers'\n",
    "print(backend,noise_start)"
   ]
  },
  {
   "cell_type": "code",
   "execution_count": null,
   "id": "37bb5f41-7fe8-42a2-8fae-548b1791a607",
   "metadata": {
    "tags": []
   },
   "outputs": [],
   "source": [
    "while True:\n",
    "    try: \n",
    "        if not str_error:\n",
    "            Xbatch, ybatch = next(noise_minibatches)\n",
    "        for x in range(0, num_retries):  \n",
    "            try:\n",
    "                str_error = 'Calculating...'\n",
    "                predicted, loss, _  = test(params, Xbatch, ybatch)\n",
    "                noise_predicted_Test = jnp.append(noise_predicted_Test, predicted)\n",
    "                print(predicted)\n",
    "                str_error = None\n",
    "            except Exception as e:\n",
    "                str_error = str(e)\n",
    "                print('err:',str_error)\n",
    "            if str_error:               # if None->break, if 'some_string'(error happens)->sleep and retry\n",
    "                time.sleep(sleep_time)  # wait before trying to fetch the data again\n",
    "                sleep_time *= 1.5  \n",
    "                if x==(num_retries-1):\n",
    "                    print('operation fail')\n",
    "                else:\n",
    "                    print(f'retry {x} times')\n",
    "            else:\n",
    "                break\n",
    "    except StopIteration:\n",
    "        break\n",
    "noise_end = time.time()"
   ]
  },
  {
   "cell_type": "code",
   "execution_count": null,
   "id": "8d2f4af7-9081-489b-a917-a503d6b078fe",
   "metadata": {
    "tags": []
   },
   "outputs": [],
   "source": [
    "def device(noise=False,real_device=False,backend=backend,noise_model=None):\n",
    "    if noise:\n",
    "        if real_device:\n",
    "            dev = qml.device('qiskit.ibmq.sampler', wires=2, backend=backend, \n",
    "                             provider=provider,initial_layout= [4,7],start_session=True)#)#\n",
    "        else:\n",
    "            if not noise_model:\n",
    "                noise_model = model_noise(backend,fake_backend)\n",
    "            dev = qml.device('qiskit.aer', wires=2, diff_method=\"adjoint\", noise_model=noise_model)#\n",
    "    else: \n",
    "        dev = qml.device(\"default.qubit\", wires=2)\n",
    "    return dev\n",
    "def conditional_qnode(dev,noise=False):\n",
    "    if noise:\n",
    "        #print('noise circ operated')\n",
    "        return qml.qnode(dev) \n",
    "    else: \n",
    "        return qml.qnode(dev,interface='jax')"
   ]
  },
  {
   "cell_type": "code",
   "execution_count": null,
   "id": "440294a7-9090-4e83-9773-61ed2d843450",
   "metadata": {
    "tags": []
   },
   "outputs": [],
   "source": [
    "Xbatch, ybatch = next(noise_minibatches)\n",
    "test(params, Xbatch, ybatch)"
   ]
  },
  {
   "cell_type": "code",
   "execution_count": null,
   "id": "13ec175b-d1da-4632-b864-dd14024e84ca",
   "metadata": {
    "tags": []
   },
   "outputs": [],
   "source": [
    "noise_accuracy_Test = accuracy_score(noise_y_Test, noise_predicted_Test)  \n",
    "print(\"noise:\",noise,\", real_device:\",real_device,', backend:',backend,', num_noise_Test:',noise_num_Test,file = F)#)#\n",
    "print(\"Cost: {:3f} | Noisy Test Accuracy : {:3f}\".format(loss, noise_accuracy_Test), file = F)#)#\n",
    "print(\"process_time ：%f s\" % (noise_end- noise_start), file = F)#)#\n",
    "print(datetime.datetime.now(), file = F)#)#\n",
    "print('noise_model:', None if real_device else noise_model, file = F)\n",
    "F.close()#\n",
    "fig, axes = plt.subplots(1, 3, figsize=(10, 3))\n",
    "plot_data(X_train, y_train, fig, axes[0])\n",
    "plot_data(noise_X_Test[:,1:], noise_predicted_Test, fig, axes[1])\n",
    "plot_data(noise_X_Test[:,1:], noise_y_Test, fig, axes[2])\n",
    "axes[0].set_title(\"Training data\")\n",
    "axes[1].set_title(\"Predictions after training \\n Accuracy with noise = {}\".format(noise_accuracy_Test))\n",
    "axes[2].set_title(\"True test data \\n # of points = {}\".format(noise_num_Test))\n",
    "plt.tight_layout()\n",
    "plt.show()\n",
    "fig.savefig('{}_noise_test.png'.format(ver), transparent=True)"
   ]
  },
  {
   "cell_type": "code",
   "execution_count": null,
   "id": "52544b5d-c128-4049-8faa-e4b5c30ade6e",
   "metadata": {
    "tags": []
   },
   "outputs": [],
   "source": [
    "qml.about()"
   ]
  },
  {
   "cell_type": "code",
   "execution_count": null,
   "id": "3a5db49c-ed37-497e-b55e-c874ad1e7947",
   "metadata": {
    "tags": []
   },
   "outputs": [],
   "source": [
    "a = [(i,j) for i,j in zip(globals().keys(),globals().values())]\n",
    "import sys\n",
    "for i,j in a:\n",
    "    print(i,sys.getsizeof(j))"
   ]
  },
  {
   "cell_type": "code",
   "execution_count": null,
   "id": "bf279d3d-fb32-4596-87ac-4b00e56868a3",
   "metadata": {},
   "outputs": [],
   "source": [
    "ibm_brisbane"
   ]
  },
  {
   "cell_type": "code",
   "execution_count": null,
   "id": "12e5fc92-fc5f-45ea-ae0c-c1df9505b688",
   "metadata": {
    "tags": []
   },
   "outputs": [],
   "source": [
    "dev = qml.device('qiskit.ibmq', wires=2, backend=backend, provider=provider)"
   ]
  },
  {
   "cell_type": "code",
   "execution_count": null,
   "id": "f67c931b-9536-4388-90a7-5bcdc23c250d",
   "metadata": {
    "tags": []
   },
   "outputs": [],
   "source": [
    "# minimum qiskit-runtime connect-testing code\n",
    "\n",
    "sleep_time = 5\n",
    "num_retries = 5\n",
    "str_error = None\n",
    "initial_layout = [1,2]# None#\n",
    "backend = 'ibmq_mumbai' #'ibmq_qasm_simulator' # or \n",
    "program_id = 'qiskit.ibmq.sampler' #'qiskit.ibmq.circuit_runner' # \n",
    "provider = IBMProvider(instance='ibm-q-hub-ntu/ntu-internal/default')\n",
    "dev = qml.device(program_id, wires=2, backend=backend\n",
    "                 , provider=provider,initial_layout=initial_layout,start_session=True)\n",
    "\n",
    "@qml.qnode(dev)\n",
    "def circuit(x, y):\n",
    "    qml.RY(y, wires=[0])\n",
    "    qml.RX(x, wires=[0])\n",
    "    qml.CNOT(wires=[0,1])\n",
    "    return qml.expval(qml.Hermitian([[1,0],[0,0]],wires=0)),qml.expval(qml.PauliY(wires=1))\n",
    "\n",
    "data = iter([[[0.1,0.2,0.3],[0.2,0.3,0.4]],[[0.4,0.5,0.6],[0.5,0.6,0.7]]])\n",
    "\n",
    "while True:\n",
    "    try:\n",
    "        if not str_error:\n",
    "            databatch=next(data)\n",
    "        for x in range(0, num_retries):  \n",
    "            try:\n",
    "                rst = circuit(*databatch)\n",
    "                print('result:',rst)\n",
    "                str_error = None\n",
    "            except  Exception as e:\n",
    "                str_error = str(e)\n",
    "                print(e)\n",
    "            if str_error:               # if None->break; if 'some_string'(error happens)->sleep\n",
    "                time.sleep(sleep_time)  # wait before trying to fetch the data again\n",
    "                sleep_time *= 3\n",
    "                print(f'retry {x} times')\n",
    "            else:\n",
    "                break\n",
    "    except StopIteration:\n",
    "        break"
   ]
  },
  {
   "cell_type": "code",
   "execution_count": null,
   "id": "4067bc87-bad2-447a-9aa9-eed8eb1d58dd",
   "metadata": {
    "tags": []
   },
   "outputs": [],
   "source": [
    "dm_labels[0]"
   ]
  },
  {
   "cell_type": "code",
   "execution_count": null,
   "id": "5ee47408-b60b-45db-9e9a-d042951aff66",
   "metadata": {
    "tags": []
   },
   "outputs": [],
   "source": [
    "initial_layout = [1,2]#None #\n",
    "backend = 'ibm_auckland'# 'ibmq_qasm_simulator' # or \n",
    "program_id = 'qiskit.ibmq.sampler' #'qiskit.ibmq.circuit_runner' # \n",
    "provider = IBMProvider(instance='ibm-q-hub-ntu/ntu-internal/default')\n",
    "dev = qml.device(program_id, wires=2, backend=backend\n",
    "                 , provider=provider,initial_layout=initial_layout)\n",
    "\n",
    "@qml.qnode(dev)\n",
    "def circuit(x, y):\n",
    "    qml.RY(y, wires=[0])\n",
    "    qml.RX(x, wires=[0])\n",
    "    qml.CNOT(wires=[0,1])\n",
    "    return qml.expval(qml.PauliZ(wires=0)),qml.expval(qml.PauliY(wires=1))\n",
    "\n",
    "data = iter([[[0.1,0.2,0.3],[0.2,0.3,0.4]],[[0.4,0.5,0.6],[0.5,0.6,0.7]]])\n",
    "databatch = next(data)\n",
    "databatch = next(data)\n",
    "circuit(*databatch)"
   ]
  },
  {
   "cell_type": "code",
   "execution_count": null,
   "id": "a3a2766d-6f5b-402e-a17e-8adf34b6e67e",
   "metadata": {
    "tags": []
   },
   "outputs": [],
   "source": [
    "from qiskit_ibm_runtime import QiskitRuntimeService, Sampler, Estimator, Session"
   ]
  },
  {
   "cell_type": "code",
   "execution_count": null,
   "id": "ae6d820d-fb2a-4e9b-adfc-f2b540e59171",
   "metadata": {
    "tags": []
   },
   "outputs": [],
   "source": [
    "##qiskit version\n",
    "from qiskit import *\n",
    "from qiskit.compiler import transpile, assemble\n",
    "from qiskit_ibm_runtime import QiskitRuntimeService, Session, Sampler, Estimator, Options\n",
    "\n",
    "shots = 2048\n",
    "sleep_time = 5\n",
    "num_retries = 5\n",
    "str_error = None\n",
    "initial_layout = None#[1,2]\n",
    "provider = IBMProvider(instance='ibm-q-hub-ntu/ntu-internal/default')\n",
    "backend = provider.get_backend('ibmq_jakarta')#'ibm_hanoi')#'ibmq_qasm_simulator')#'ibmq_quito')\n",
    "runtime_service = QiskitRuntimeService(channel=\"ibm_quantum\")\n",
    "options = {\"backend\": backend.name}\n",
    "def qcircuit(x,y):\n",
    "    qr = QuantumRegister(2)\n",
    "    cr = ClassicalRegister(2)\n",
    "    circuit = QuantumCircuit(qr, cr)\n",
    "    circuit.rx(x,qr[0])\n",
    "    circuit.ry(y,qr[1])\n",
    "    circuit.cx(qr[0], qr[1])\n",
    "    circuit.measure(qr, cr)\n",
    "    mapped_circuit = transpile(circuit, backend=backend)\n",
    "    return mapped_circuit\n",
    "data = iter([[0.1,0.2],[0.2,0.3],[0.4,0.5]])\n",
    "\n",
    "while True:\n",
    "    try:\n",
    "        if not str_error:\n",
    "            databatch=next(data)\n",
    "        for x in range(0, num_retries):  \n",
    "            try:\n",
    "                program_inputs = {\"circuits\": qcircuit(*databatch)  , \"shots\": shots , 'initial_layout':initial_layout\n",
    "                                  , 'optimization_level': 3,'start_session': True}\n",
    "                job = runtime_service.run(program_id=\"circuit-runner\", options=options, inputs=program_inputs)#\n",
    "                counts = job.result().get_counts()\n",
    "                print('result:',counts)\n",
    "                str_error = None\n",
    "            except  Exception as e:\n",
    "                str_error = str(e)\n",
    "                print(e)\n",
    "            if str_error:               # if None->break; if 'some_string'(error happens)->sleep\n",
    "                time.sleep(sleep_time)  # wait before trying to fetch the data again\n",
    "                sleep_time *= 3\n",
    "                print(f'retry {x} times')\n",
    "            else:\n",
    "                break\n",
    "    except StopIteration:\n",
    "        break"
   ]
  },
  {
   "cell_type": "code",
   "execution_count": null,
   "id": "f3951f7d-e43c-42ed-b304-295f51a0c5f4",
   "metadata": {
    "tags": []
   },
   "outputs": [],
   "source": [
    "circuit(*databatch)"
   ]
  },
  {
   "cell_type": "code",
   "execution_count": null,
   "id": "6d5d11eb-1e95-47a9-8266-05a57abe2db9",
   "metadata": {
    "tags": []
   },
   "outputs": [],
   "source": [
    "# provider = IBMProvider()\n",
    "# dev = qml.device('qiskit.ibmq', wires=2, backend=backend, provider=provider)\n",
    "# dev.capabilities()['backend']"
   ]
  },
  {
   "cell_type": "code",
   "execution_count": null,
   "id": "994c6bb2-2480-4640-a6c3-a7c695fc8aad",
   "metadata": {},
   "outputs": [],
   "source": [
    "from sklearn.datasets import load_breast_cancer\n",
    "data = load_breast_cancer()\n",
    "x,y = load_breast_cancer(return_X_y=True)\n",
    "x.shape"
   ]
  }
 ],
 "metadata": {
  "kernelspec": {
   "display_name": "Python 3 (ipykernel)",
   "language": "python",
   "name": "python3"
  },
  "language_info": {
   "codemirror_mode": {
    "name": "ipython",
    "version": 3
   },
   "file_extension": ".py",
   "mimetype": "text/x-python",
   "name": "python",
   "nbconvert_exporter": "python",
   "pygments_lexer": "ipython3",
   "version": "3.13.0"
  },
  "widgets": {
   "application/vnd.jupyter.widget-state+json": {
    "state": {},
    "version_major": 2,
    "version_minor": 0
   }
  }
 },
 "nbformat": 4,
 "nbformat_minor": 5
}
